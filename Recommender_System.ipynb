{
  "cells": [
    {
      "cell_type": "markdown",
      "metadata": {
        "id": "view-in-github",
        "colab_type": "text"
      },
      "source": [
        "<a href=\"https://colab.research.google.com/github/avisinghal6/Graph-based-Recommender-System/blob/main/Recommender_System.ipynb\" target=\"_parent\"><img src=\"https://colab.research.google.com/assets/colab-badge.svg\" alt=\"Open In Colab\"/></a>"
      ]
    },
    {
      "cell_type": "code",
      "execution_count": 1,
      "metadata": {
        "id": "607R0wtZEzIx"
      },
      "outputs": [],
      "source": [
        "import networkx as nx\n",
        "import numpy as np\n",
        "import os\n",
        "import random\n",
        "import math \n",
        "from tqdm import tqdm"
      ]
    },
    {
      "cell_type": "code",
      "execution_count": 2,
      "metadata": {
        "id": "LjO9sBROI0aJ"
      },
      "outputs": [],
      "source": [
        "G=nx.Graph()"
      ]
    },
    {
      "cell_type": "code",
      "execution_count": 3,
      "metadata": {
        "colab": {
          "base_uri": "https://localhost:8080/",
          "height": 35
        },
        "id": "DfpbWxzdNgC3",
        "outputId": "650d29fb-7a64-4acc-f63a-2bef176c0d70"
      },
      "outputs": [
        {
          "output_type": "execute_result",
          "data": {
            "text/plain": [
              "'/content/data'"
            ],
            "application/vnd.google.colaboratory.intrinsic+json": {
              "type": "string"
            }
          },
          "metadata": {},
          "execution_count": 3
        }
      ],
      "source": [
        "os.getcwd()+'/data'"
      ]
    },
    {
      "cell_type": "code",
      "execution_count": 5,
      "metadata": {
        "id": "BDjgYyeOIT1G"
      },
      "outputs": [],
      "source": [
        "dir=os.getcwd()+'/data'\n",
        "videos_to_remove=[]\n",
        "for filename in os.listdir(dir):\n",
        "   with open(os.path.join(dir, filename), 'r') as f:\n",
        "     for line in f.readlines():\n",
        "      data=line.split(\"\\t\")\n",
        "      related_id=data[9:]\n",
        "      if len(related_id)>0:\n",
        "        related_id[-1]=data[-1][:-1]\n",
        "      \n",
        "      #REMOVING THOSE NODES WHICH HAVE NO DATA\n",
        "      if(len(data)==1):\n",
        "        videos_to_remove.append(data[-1][:-1])\n",
        "        continue\n",
        "      G.add_node(data[0],uploader=data[1],age=data[2],category=data[3],length=data[4],views=data[5],rate=data[6],ratings=data[7],comments=data[8])\n",
        "      for i in range(len(related_id)):\n",
        "        G.add_edge(data[0],related_id[i])\n"
      ]
    },
    {
      "cell_type": "code",
      "execution_count": 6,
      "metadata": {
        "id": "-J3ceniA4Xav"
      },
      "outputs": [],
      "source": [
        "#REMOVING NODES WHICH HAVE NO FEATURES, MOST PROBABLY THESE NODES WERE NOT REMOVED IN ABOVE CELL\n",
        "for n in G.nodes():\n",
        "  if bool(G.nodes[n])==False:\n",
        "    videos_to_remove.append(n)"
      ]
    },
    {
      "cell_type": "code",
      "execution_count": 7,
      "metadata": {
        "id": "MEGG0cRxImuO"
      },
      "outputs": [],
      "source": [
        "for i in videos_to_remove:\n",
        "  try:\n",
        "    G.remove_node(i)\n",
        "  except:\n",
        "    continue"
      ]
    },
    {
      "cell_type": "code",
      "execution_count": 8,
      "metadata": {
        "id": "JJLXpvjrcZ1I"
      },
      "outputs": [],
      "source": [
        "#IF AFTER REMOVING SOME NODES IF THE NODE HAS NO NEIGHBORS, THEN REMOVE THOSE NODES AS WELL\n",
        "videos_to_remove=[]\n",
        "for n in G.nodes():\n",
        "  if len(list(G.neighbors(n)))==0:\n",
        "    videos_to_remove.append(n)"
      ]
    },
    {
      "cell_type": "code",
      "execution_count": 9,
      "metadata": {
        "id": "d17WNHHycify"
      },
      "outputs": [],
      "source": [
        "for i in videos_to_remove:\n",
        "  try:\n",
        "    G.remove_node(i)\n",
        "  except:\n",
        "    continue"
      ]
    },
    {
      "cell_type": "code",
      "source": [
        "G.nodes['OsIVcqVN6VY']"
      ],
      "metadata": {
        "colab": {
          "base_uri": "https://localhost:8080/"
        },
        "id": "G-Bm1ky0IMW7",
        "outputId": "237bfdc1-bf71-4876-a013-f923c76f799f"
      },
      "execution_count": null,
      "outputs": [
        {
          "output_type": "execute_result",
          "data": {
            "text/plain": [
              "{'uploader': 'Clone0High',\n",
              " 'age': '1221',\n",
              " 'category': 'Entertainment',\n",
              " 'length': '106',\n",
              " 'views': '53',\n",
              " 'rate': '0',\n",
              " 'ratings': '0',\n",
              " 'comments': '0\\n'}"
            ]
          },
          "metadata": {},
          "execution_count": 9
        }
      ]
    },
    {
      "cell_type": "code",
      "execution_count": null,
      "metadata": {
        "colab": {
          "base_uri": "https://localhost:8080/"
        },
        "id": "8CyeSmcJMWaY",
        "outputId": "e04b0e75-d14a-4a71-adc3-87c123188a96"
      },
      "outputs": [
        {
          "output_type": "execute_result",
          "data": {
            "text/plain": [
              "131309"
            ]
          },
          "metadata": {},
          "execution_count": 10
        }
      ],
      "source": [
        "G.number_of_edges()"
      ]
    },
    {
      "cell_type": "code",
      "execution_count": null,
      "metadata": {
        "colab": {
          "base_uri": "https://localhost:8080/"
        },
        "id": "d36-K3bvQXUK",
        "outputId": "c7c332f8-803b-471d-9d38-b501b73af807"
      },
      "outputs": [
        {
          "output_type": "execute_result",
          "data": {
            "text/plain": [
              "48781"
            ]
          },
          "metadata": {},
          "execution_count": 21
        }
      ],
      "source": [
        "G.number_of_nodes()"
      ]
    },
    {
      "cell_type": "code",
      "source": [
        "G_converted=nx.convert_node_labels_to_integers(G,first_label=1)"
      ],
      "metadata": {
        "id": "1j9zYB_O9bIh"
      },
      "execution_count": null,
      "outputs": []
    },
    {
      "cell_type": "code",
      "source": [
        "v = np.random.choice([])"
      ],
      "metadata": {
        "colab": {
          "base_uri": "https://localhost:8080/",
          "height": 204
        },
        "id": "wZVAipP_9bLq",
        "outputId": "76c8fd29-6807-47de-f93f-9d600d52fced"
      },
      "execution_count": null,
      "outputs": [
        {
          "output_type": "error",
          "ename": "ValueError",
          "evalue": "ignored",
          "traceback": [
            "\u001b[0;31m---------------------------------------------------------------------------\u001b[0m",
            "\u001b[0;31mValueError\u001b[0m                                Traceback (most recent call last)",
            "\u001b[0;32m<ipython-input-4-9e5d37ec56b5>\u001b[0m in \u001b[0;36m<cell line: 1>\u001b[0;34m()\u001b[0m\n\u001b[0;32m----> 1\u001b[0;31m \u001b[0mv\u001b[0m \u001b[0;34m=\u001b[0m \u001b[0mnp\u001b[0m\u001b[0;34m.\u001b[0m\u001b[0mrandom\u001b[0m\u001b[0;34m.\u001b[0m\u001b[0mchoice\u001b[0m\u001b[0;34m(\u001b[0m\u001b[0;34m[\u001b[0m\u001b[0;34m]\u001b[0m\u001b[0;34m)\u001b[0m\u001b[0;34m\u001b[0m\u001b[0;34m\u001b[0m\u001b[0m\n\u001b[0m",
            "\u001b[0;32mmtrand.pyx\u001b[0m in \u001b[0;36mnumpy.random.mtrand.RandomState.choice\u001b[0;34m()\u001b[0m\n",
            "\u001b[0;31mValueError\u001b[0m: 'a' cannot be empty unless no samples are taken"
          ]
        }
      ]
    },
    {
      "cell_type": "code",
      "source": [],
      "metadata": {
        "id": "vSsjD75p9bOQ"
      },
      "execution_count": null,
      "outputs": []
    },
    {
      "cell_type": "code",
      "execution_count": 10,
      "metadata": {
        "id": "beJnbaok-Zsd",
        "colab": {
          "base_uri": "https://localhost:8080/",
          "height": 169
        },
        "outputId": "1693549a-6b74-4478-84a8-17a91ffb601d"
      },
      "outputs": [
        {
          "output_type": "error",
          "ename": "NameError",
          "evalue": "ignored",
          "traceback": [
            "\u001b[0;31m---------------------------------------------------------------------------\u001b[0m",
            "\u001b[0;31mNameError\u001b[0m                                 Traceback (most recent call last)",
            "\u001b[0;32m<ipython-input-10-e6c49247836e>\u001b[0m in \u001b[0;36m<cell line: 1>\u001b[0;34m()\u001b[0m\n\u001b[0;32m----> 1\u001b[0;31m \u001b[0mnx\u001b[0m\u001b[0;34m.\u001b[0m\u001b[0mwrite_edgelist\u001b[0m\u001b[0;34m(\u001b[0m\u001b[0mG_converted\u001b[0m\u001b[0;34m,\u001b[0m \u001b[0;34m\"edges.txt\"\u001b[0m\u001b[0;34m)\u001b[0m\u001b[0;34m\u001b[0m\u001b[0;34m\u001b[0m\u001b[0m\n\u001b[0m",
            "\u001b[0;31mNameError\u001b[0m: name 'G_converted' is not defined"
          ]
        }
      ],
      "source": [
        "nx.write_edgelist(G_converted, \"edges.txt\")"
      ]
    },
    {
      "cell_type": "code",
      "source": [
        "with open(\"edges.txt\", \"rt\") as fin:\n",
        "    with open(\"out.txt\", \"wt\") as fout:\n",
        "        for line in fin:\n",
        "            fout.write(line.replace('{}', ''))"
      ],
      "metadata": {
        "id": "qkWIb-1U7eed"
      },
      "execution_count": null,
      "outputs": []
    },
    {
      "cell_type": "markdown",
      "metadata": {
        "id": "Oubr3BVQ-Z4P"
      },
      "source": [
        "STATISTICS OF DATA CODE"
      ]
    },
    {
      "cell_type": "code",
      "execution_count": 11,
      "metadata": {
        "id": "nhfsPtSFQdFW"
      },
      "outputs": [],
      "source": [
        "import matplotlib.pyplot as plt\n"
      ]
    },
    {
      "cell_type": "code",
      "execution_count": 12,
      "metadata": {
        "id": "9xALiYeJR-xj"
      },
      "outputs": [],
      "source": [
        "degree_sequence = sorted((d for n, d in G.degree()), reverse=True)\n",
        "dmax = max(degree_sequence)"
      ]
    },
    {
      "cell_type": "code",
      "execution_count": 13,
      "metadata": {
        "colab": {
          "base_uri": "https://localhost:8080/",
          "height": 807
        },
        "id": "yFupdH82R7k8",
        "outputId": "6abdf0a1-d8f6-4b71-ec84-75320514b3ab"
      },
      "outputs": [
        {
          "output_type": "display_data",
          "data": {
            "text/plain": [
              "<Figure size 800x800 with 1 Axes>"
            ],
            "image/png": "[encoded data removed]"
          },
          "metadata": {}
        }
      ],
      "source": [
        "fig = plt.figure(\"Degree of a random graph\", figsize=(8, 8))\n",
        "axgrid = fig.add_gridspec(1,1)\n",
        "ax2 = fig.add_subplot(axgrid[0:, 0:])\n",
        "ax2.bar(*np.unique(degree_sequence, return_counts=True))\n",
        "ax2.set_title(\"Degree histogram\")\n",
        "ax2.set_xlabel(\"Degree\")\n",
        "ax2.set_ylabel(\"# of Nodes\")\n",
        "plt.savefig(\"myImagePDF.pdf\", format=\"pdf\", bbox_inches=\"tight\")\n",
        "fig.tight_layout()\n",
        "plt.show()"
      ]
    },
    {
      "cell_type": "code",
      "execution_count": null,
      "metadata": {
        "id": "Tv9FTyu8Sq0v"
      },
      "outputs": [],
      "source": [
        "import itertools\n",
        "shortest_paths={}\n",
        "shortest_paths[-1]=0\n",
        "for u,v in G.edges():\n",
        "  G.remove_edge(u,v)\n",
        "  try:\n",
        "    length=nx.shortest_path_length(G, source=u, target=v)\n",
        "  except:\n",
        "    shortest_paths[-1]=shortest_paths[-1]+1\n",
        "    G.add_edge(u,v)\n",
        "    continue\n",
        "  \n",
        "  if length in shortest_paths:\n",
        "    shortest_paths[length]=shortest_paths[length]+1\n",
        "  else:\n",
        "    shortest_paths[length]=1\n",
        "  G.add_edge(u,v)\n"
      ]
    },
    {
      "cell_type": "code",
      "execution_count": null,
      "metadata": {
        "id": "mUPju39iWDOQ",
        "colab": {
          "base_uri": "https://localhost:8080/",
          "height": 718
        },
        "outputId": "3fabd6df-bf14-46d6-9ed5-666a016813da"
      },
      "outputs": [
        {
          "output_type": "display_data",
          "data": {
            "text/plain": [
              "<Figure size 800x800 with 1 Axes>"
            ],
            "image/png": "[encoded data removed]"
          },
          "metadata": {}
        }
      ],
      "source": [
        "fig = plt.figure(\"Histogram of shortest between related videos after direct edge was removed\", figsize=(8, 8))\n",
        "node_pairs=list(shortest_paths.keys())\n",
        "shortest_path=list(shortest_paths.values())\n",
        "plt.bar(node_pairs, shortest_path)\n",
        "plt.title(\"Histogram of shortest between related videos after direct edge was removed\")\n",
        "plt.xlabel('Shortest Path')\n",
        "plt.ylabel('# of Nodes')\n",
        "plt.savefig(\"myImagePDF.pdf\", format=\"pdf\", bbox_inches=\"tight\")\n",
        "plt.show()"
      ]
    },
    {
      "cell_type": "code",
      "execution_count": null,
      "metadata": {
        "id": "V_T8GtFFak86"
      },
      "outputs": [],
      "source": [
        "similar_neighbors={}\n",
        "for n in G.nodes():\n",
        "  node_genre=G.nodes[n]['category']\n",
        "  count=0\n",
        "  same=0\n",
        "  for i in G.neighbors(n):\n",
        "    count+=1\n",
        "    if node_genre==G.nodes[i]['category'] :\n",
        "      same+=1\n",
        "  \n",
        "  percent=same/count\n",
        "  percent=round(percent*100)\n",
        "  if percent in similar_neighbors:\n",
        "    similar_neighbors[percent]=similar_neighbors[percent]+1\n",
        "  else:\n",
        "    similar_neighbors[percent]=1"
      ]
    },
    {
      "cell_type": "code",
      "execution_count": null,
      "metadata": {
        "id": "h7Ny2u9rdWUu",
        "colab": {
          "base_uri": "https://localhost:8080/",
          "height": 472
        },
        "outputId": "06d399a6-3864-4a5f-b614-7e1c53acc1ba"
      },
      "outputs": [
        {
          "output_type": "display_data",
          "data": {
            "text/plain": [
              "<Figure size 640x480 with 1 Axes>"
            ],
            "image/png": "[encoded data removed]"
          },
          "metadata": {}
        }
      ],
      "source": [
        "plt.title(\"Histogram of percent of neighbors with same genre\")\n",
        "nodes=list(similar_neighbors.keys())\n",
        "percentage=list(similar_neighbors.values())\n",
        "plt.bar(nodes,percentage)\n",
        "plt.xlabel('% of neighbors with same genre')\n",
        "plt.ylabel('# of Nodes')\n",
        "plt.savefig(\"myImagePDF.pdf\", format=\"pdf\", bbox_inches=\"tight\")\n",
        "plt.show()"
      ]
    },
    {
      "cell_type": "code",
      "execution_count": null,
      "metadata": {
        "id": "Q5a5i4amdfv-"
      },
      "outputs": [],
      "source": [
        "same_uploader={}\n",
        "for n in G.nodes():\n",
        "  uploader=G.nodes[n]['uploader']\n",
        "  count=0\n",
        "  same=0\n",
        "  for i in G.neighbors(n):\n",
        "    count+=1\n",
        "    if uploader==G.nodes[i]['uploader'] :\n",
        "      same+=1\n",
        "  \n",
        "  percent=same/count\n",
        "  percent=round(percent*100)\n",
        "  if percent in same_uploader:\n",
        "    same_uploader[percent]=same_uploader[percent]+1\n",
        "  else:\n",
        "    same_uploader[percent]=1"
      ]
    },
    {
      "cell_type": "code",
      "execution_count": null,
      "metadata": {
        "id": "CR14tAxYdfyi",
        "colab": {
          "base_uri": "https://localhost:8080/",
          "height": 472
        },
        "outputId": "3ef0b555-50ad-4a2d-dae6-2ee2cd85a53c"
      },
      "outputs": [
        {
          "output_type": "display_data",
          "data": {
            "text/plain": [
              "<Figure size 640x480 with 1 Axes>"
            ],
            "image/png": "[encoded data removed]"
          },
          "metadata": {}
        }
      ],
      "source": [
        "plt.title(\"Histogram of percent of neighbors with same uploader\")\n",
        "nodes=list(same_uploader.keys())\n",
        "percentage=list(same_uploader.values())\n",
        "plt.bar(nodes, percentage)\n",
        "plt.xlabel('% of neighbors with same uploader')\n",
        "plt.ylabel('# of Nodes')\n",
        "plt.savefig(\"myImagePDF.pdf\", format=\"pdf\", bbox_inches=\"tight\")\n",
        "plt.show()"
      ]
    },
    {
      "cell_type": "code",
      "source": [
        "same_uploader[0]"
      ],
      "metadata": {
        "colab": {
          "base_uri": "https://localhost:8080/"
        },
        "id": "8w1QECOlYhfy",
        "outputId": "9df3208d-03eb-488f-edd6-5d180c2c846b"
      },
      "execution_count": null,
      "outputs": [
        {
          "output_type": "execute_result",
          "data": {
            "text/plain": [
              "33619"
            ]
          },
          "metadata": {},
          "execution_count": 40
        }
      ]
    },
    {
      "cell_type": "code",
      "execution_count": null,
      "metadata": {
        "id": "B4RMroLQd1tG"
      },
      "outputs": [],
      "source": [
        "node_views={}\n",
        "for n in G.nodes():\n",
        "  node_views[int(G.nodes[n]['views'])]=G.degree[n]"
      ]
    },
    {
      "cell_type": "code",
      "execution_count": null,
      "metadata": {
        "id": "9MRKNa21d1vY",
        "colab": {
          "base_uri": "https://localhost:8080/",
          "height": 472
        },
        "outputId": "b3d462d7-bb37-4c68-fd48-e1c95efc662b"
      },
      "outputs": [
        {
          "output_type": "display_data",
          "data": {
            "text/plain": [
              "<Figure size 640x480 with 1 Axes>"
            ],
            "image/png": "[encoded data removed]"
          },
          "metadata": {}
        }
      ],
      "source": [
        "plt.title(\"Degree vs Number of Views\")\n",
        "views=list(node_views.keys())\n",
        "nodes=list(node_views.values())\n",
        "plt.scatter(views, nodes)\n",
        "plt.xlabel('Number f views')\n",
        "plt.ylabel('Degree')\n",
        "plt.show()"
      ]
    },
    {
      "cell_type": "code",
      "execution_count": null,
      "metadata": {
        "id": "ZHiwvZJ7014p",
        "colab": {
          "base_uri": "https://localhost:8080/"
        },
        "outputId": "85c5faf8-91e3-4adf-fb99-2b7ed3b63aed"
      },
      "outputs": [
        {
          "output_type": "execute_result",
          "data": {
            "text/plain": [
              "7524"
            ]
          },
          "metadata": {},
          "execution_count": 70
        }
      ],
      "source": []
    },
    {
      "cell_type": "markdown",
      "metadata": {
        "id": "5A8t36lF-fws"
      },
      "source": [
        "PIXIE RANDOM WALK CODE\n"
      ]
    },
    {
      "cell_type": "code",
      "execution_count": 104,
      "metadata": {
        "id": "nykZ_oGzghEf"
      },
      "outputs": [],
      "source": [
        "def personalizedNeighbor(G,F,currentVideo,visited):\n",
        "  n=G.neighbors(currentVideo)\n",
        "  if len(list(G.neighbors(currentVideo)))==0:\n",
        "    return -1\n",
        "  probs=[]\n",
        "  neighbors=[]\n",
        "  count=0\n",
        "  for i in G.neighbors(currentVideo):\n",
        "    p=1\n",
        "    neighbors.append(i)\n",
        "    if F['category']==G.nodes[i]['category']:\n",
        "      p=p*1.5\n",
        "    \n",
        "    if F['uploader']==G.nodes[i]['uploader']:\n",
        "      p=p*1.5\n",
        "\n",
        "    p=p*(math.sqrt(math.log(int(G.nodes[i]['views'])+3)))\n",
        "\n",
        "    if currentVideo not in visited:\n",
        "      p=p*1.5\n",
        "\n",
        "    probs.append(p)\n",
        "  \n",
        "  total=sum(probs)\n",
        "  probs=[x/total for x in probs]\n",
        "  \n",
        "  selected_node=np.random.choice(neighbors, 1,p=probs)[0]\n",
        "\n",
        "  return selected_node\n",
        "  "
      ]
    },
    {
      "cell_type": "code",
      "execution_count": 105,
      "metadata": {
        "id": "KMHykPWj3Odw"
      },
      "outputs": [],
      "source": [
        "def chooseNeighbor(G):\n",
        "  nodes=list(G.nodes)\n",
        "  return random.choice(nodes)"
      ]
    },
    {
      "cell_type": "code",
      "execution_count": 106,
      "metadata": {
        "id": "7iE3O5dbghG8"
      },
      "outputs": [],
      "source": [
        "\n",
        "def PixieRandomWalk(q,G,F,N_q,T,V):\n",
        "  \n",
        "  for i in G.nodes:\n",
        "    V[i]=0\n",
        "\n",
        "  for beta in T:\n",
        "    currentVideo=q\n",
        "    visited=set()\n",
        "    for i in range(int(N_q/len(T))):\n",
        "      visited.add(currentVideo)\n",
        "      V[currentVideo]=V[currentVideo]+1\n",
        "      \n",
        "      teleport=random.uniform(0, 1)\n",
        "      if teleport < beta :\n",
        "        currentVideo=chooseNeighbor(G)\n",
        "      else:\n",
        "        currentVideo=personalizedNeighbor(G,F,currentVideo,visited)\n",
        "      \n",
        "      while currentVideo==-1:\n",
        "        currentVideo=chooseNeighbor(G)\n",
        "  return V"
      ]
    },
    {
      "cell_type": "code",
      "execution_count": 107,
      "metadata": {
        "id": "yqdlfEYhv-yz"
      },
      "outputs": [],
      "source": [
        "def PixieRandomWalkMultiple(Q,Nq,G,F,N,T):\n",
        "  Vq=[]\n",
        "  for i in range(len(Q)):\n",
        "    Vq.append(PixieRandomWalk(Q[i],G,F,Nq[i],T,{}))\n",
        "  \n",
        "  VisitCounts={}\n",
        "  for v in G.nodes():\n",
        "    \n",
        "    total=0\n",
        "    for i in range(len(Q)):\n",
        "      total+=math.sqrt(Vq[i][v])\n",
        "      \n",
        "    VisitCounts[v]=total*total\n",
        "    \n",
        "  return VisitCounts\n",
        "    "
      ]
    },
    {
      "cell_type": "code",
      "execution_count": 108,
      "metadata": {
        "id": "CbsKvURrxIyQ"
      },
      "outputs": [],
      "source": [
        "#generates the query set Q and N_q for each query\n",
        "def construct_query(G,N,currentVideo,threshold):\n",
        "\n",
        "  query=[]\n",
        "  Nq=[]\n",
        "  max_degree=0\n",
        "  Sq=[]\n",
        "\n",
        "  for i in G.neighbors(currentVideo):\n",
        "\n",
        "    rand=random.uniform(0, 1)\n",
        "\n",
        "    if rand < threshold:\n",
        "      query.append(i)\n",
        "      max_degree=max(max_degree,G.degree[i])\n",
        "  print(max_degree)\n",
        "  for i in query:\n",
        "    sq= G.degree[i] * (max_degree- math.log(G.degree[i]))\n",
        "    Sq.append(sq)\n",
        "  \n",
        "  total_Sq=sum(Sq)\n",
        "  for i in range(len(Sq)):\n",
        "    Nq.append(N*Sq[i]/total_Sq)\n",
        "  \n",
        "\n",
        "  return query,Nq"
      ]
    },
    {
      "cell_type": "code",
      "execution_count": null,
      "metadata": {
        "id": "ed5kHxFm1RK4",
        "colab": {
          "base_uri": "https://localhost:8080/",
          "height": 443
        },
        "outputId": "a1c0bc71-d6e6-45a6-f3b4-bf79d40d6ef8"
      },
      "outputs": [
        {
          "output_type": "error",
          "ename": "NetworkXError",
          "evalue": "ignored",
          "traceback": [
            "\u001b[0;31m---------------------------------------------------------------------------\u001b[0m",
            "\u001b[0;31mKeyError\u001b[0m                                  Traceback (most recent call last)",
            "\u001b[0;32m/usr/local/lib/python3.10/dist-packages/networkx/classes/graph.py\u001b[0m in \u001b[0;36mneighbors\u001b[0;34m(self, n)\u001b[0m\n\u001b[1;32m   1353\u001b[0m         \u001b[0;32mtry\u001b[0m\u001b[0;34m:\u001b[0m\u001b[0;34m\u001b[0m\u001b[0;34m\u001b[0m\u001b[0m\n\u001b[0;32m-> 1354\u001b[0;31m             \u001b[0;32mreturn\u001b[0m \u001b[0miter\u001b[0m\u001b[0;34m(\u001b[0m\u001b[0mself\u001b[0m\u001b[0;34m.\u001b[0m\u001b[0m_adj\u001b[0m\u001b[0;34m[\u001b[0m\u001b[0mn\u001b[0m\u001b[0;34m]\u001b[0m\u001b[0;34m)\u001b[0m\u001b[0;34m\u001b[0m\u001b[0;34m\u001b[0m\u001b[0m\n\u001b[0m\u001b[1;32m   1355\u001b[0m         \u001b[0;32mexcept\u001b[0m \u001b[0mKeyError\u001b[0m \u001b[0;32mas\u001b[0m \u001b[0merr\u001b[0m\u001b[0;34m:\u001b[0m\u001b[0;34m\u001b[0m\u001b[0;34m\u001b[0m\u001b[0m\n",
            "\u001b[0;31mKeyError\u001b[0m: 'OOwP-s-89aU'",
            "\nThe above exception was the direct cause of the following exception:\n",
            "\u001b[0;31mNetworkXError\u001b[0m                             Traceback (most recent call last)",
            "\u001b[0;32m<ipython-input-168-b9ee39493a18>\u001b[0m in \u001b[0;36m<cell line: 4>\u001b[0;34m()\u001b[0m\n\u001b[1;32m      2\u001b[0m \u001b[0mN\u001b[0m\u001b[0;34m=\u001b[0m\u001b[0;36m500\u001b[0m\u001b[0;34m\u001b[0m\u001b[0;34m\u001b[0m\u001b[0m\n\u001b[1;32m      3\u001b[0m \u001b[0mthreshold\u001b[0m\u001b[0;34m=\u001b[0m\u001b[0;36m1\u001b[0m\u001b[0;34m\u001b[0m\u001b[0;34m\u001b[0m\u001b[0m\n\u001b[0;32m----> 4\u001b[0;31m \u001b[0mQ\u001b[0m\u001b[0;34m,\u001b[0m\u001b[0mNq\u001b[0m\u001b[0;34m=\u001b[0m\u001b[0mconstruct_query\u001b[0m\u001b[0;34m(\u001b[0m\u001b[0mG\u001b[0m\u001b[0;34m,\u001b[0m\u001b[0mN\u001b[0m\u001b[0;34m,\u001b[0m\u001b[0mcurrentVideo\u001b[0m\u001b[0;34m,\u001b[0m\u001b[0mthreshold\u001b[0m\u001b[0;34m)\u001b[0m\u001b[0;34m\u001b[0m\u001b[0;34m\u001b[0m\u001b[0m\n\u001b[0m\u001b[1;32m      5\u001b[0m \u001b[0mF\u001b[0m\u001b[0;34m=\u001b[0m\u001b[0mG\u001b[0m\u001b[0;34m.\u001b[0m\u001b[0mnodes\u001b[0m\u001b[0;34m[\u001b[0m\u001b[0mcurrentVideo\u001b[0m\u001b[0;34m]\u001b[0m\u001b[0;34m\u001b[0m\u001b[0;34m\u001b[0m\u001b[0m\n\u001b[1;32m      6\u001b[0m \u001b[0mT\u001b[0m\u001b[0;34m=\u001b[0m\u001b[0;34m[\u001b[0m\u001b[0;36m0.5\u001b[0m\u001b[0;34m]\u001b[0m\u001b[0;34m\u001b[0m\u001b[0;34m\u001b[0m\u001b[0m\n",
            "\u001b[0;32m<ipython-input-167-c66b84e97e5c>\u001b[0m in \u001b[0;36mconstruct_query\u001b[0;34m(G, N, currentVideo, threshold)\u001b[0m\n\u001b[1;32m      7\u001b[0m   \u001b[0mSq\u001b[0m\u001b[0;34m=\u001b[0m\u001b[0;34m[\u001b[0m\u001b[0;34m]\u001b[0m\u001b[0;34m\u001b[0m\u001b[0;34m\u001b[0m\u001b[0m\n\u001b[1;32m      8\u001b[0m \u001b[0;34m\u001b[0m\u001b[0m\n\u001b[0;32m----> 9\u001b[0;31m   \u001b[0;32mfor\u001b[0m \u001b[0mi\u001b[0m \u001b[0;32min\u001b[0m \u001b[0mG\u001b[0m\u001b[0;34m.\u001b[0m\u001b[0mneighbors\u001b[0m\u001b[0;34m(\u001b[0m\u001b[0mcurrentVideo\u001b[0m\u001b[0;34m)\u001b[0m\u001b[0;34m:\u001b[0m\u001b[0;34m\u001b[0m\u001b[0;34m\u001b[0m\u001b[0m\n\u001b[0m\u001b[1;32m     10\u001b[0m \u001b[0;34m\u001b[0m\u001b[0m\n\u001b[1;32m     11\u001b[0m     \u001b[0mrand\u001b[0m\u001b[0;34m=\u001b[0m\u001b[0mrandom\u001b[0m\u001b[0;34m.\u001b[0m\u001b[0muniform\u001b[0m\u001b[0;34m(\u001b[0m\u001b[0;36m0\u001b[0m\u001b[0;34m,\u001b[0m \u001b[0;36m1\u001b[0m\u001b[0;34m)\u001b[0m\u001b[0;34m\u001b[0m\u001b[0;34m\u001b[0m\u001b[0m\n",
            "\u001b[0;32m/usr/local/lib/python3.10/dist-packages/networkx/classes/graph.py\u001b[0m in \u001b[0;36mneighbors\u001b[0;34m(self, n)\u001b[0m\n\u001b[1;32m   1354\u001b[0m             \u001b[0;32mreturn\u001b[0m \u001b[0miter\u001b[0m\u001b[0;34m(\u001b[0m\u001b[0mself\u001b[0m\u001b[0;34m.\u001b[0m\u001b[0m_adj\u001b[0m\u001b[0;34m[\u001b[0m\u001b[0mn\u001b[0m\u001b[0;34m]\u001b[0m\u001b[0;34m)\u001b[0m\u001b[0;34m\u001b[0m\u001b[0;34m\u001b[0m\u001b[0m\n\u001b[1;32m   1355\u001b[0m         \u001b[0;32mexcept\u001b[0m \u001b[0mKeyError\u001b[0m \u001b[0;32mas\u001b[0m \u001b[0merr\u001b[0m\u001b[0;34m:\u001b[0m\u001b[0;34m\u001b[0m\u001b[0;34m\u001b[0m\u001b[0m\n\u001b[0;32m-> 1356\u001b[0;31m             \u001b[0;32mraise\u001b[0m \u001b[0mNetworkXError\u001b[0m\u001b[0;34m(\u001b[0m\u001b[0;34mf\"The node {n} is not in the graph.\"\u001b[0m\u001b[0;34m)\u001b[0m \u001b[0;32mfrom\u001b[0m \u001b[0merr\u001b[0m\u001b[0;34m\u001b[0m\u001b[0;34m\u001b[0m\u001b[0m\n\u001b[0m\u001b[1;32m   1357\u001b[0m \u001b[0;34m\u001b[0m\u001b[0m\n\u001b[1;32m   1358\u001b[0m     \u001b[0;34m@\u001b[0m\u001b[0mcached_property\u001b[0m\u001b[0;34m\u001b[0m\u001b[0;34m\u001b[0m\u001b[0m\n",
            "\u001b[0;31mNetworkXError\u001b[0m: The node OOwP-s-89aU is not in the graph."
          ]
        }
      ],
      "source": [
        "currentVideo='OOwP-s-89aU'\n",
        "N=500\n",
        "threshold=1\n",
        "Q,Nq=construct_query(G,N,currentVideo,threshold)\n",
        "F=G.nodes[currentVideo]\n",
        "T=[0.5]\n",
        "\n",
        "VisitCounts=PixieRandomWalkMultiple(Q,Nq,G,F,N,T)"
      ]
    },
    {
      "cell_type": "code",
      "source": [
        "def acc(VisitCounts, edges, k):\n",
        "  node_edges=set()\n",
        "  accuracy=0\n",
        "  for j in range(k):\n",
        "    x,y=VisitCounts[j]\n",
        "    node_edges.add(x)\n",
        "\n",
        "  count=len(node_edges.intersection(edges))\n",
        "  accuracy+=count/len(edges)\n",
        "\n",
        "  return accuracy\n"
      ],
      "metadata": {
        "id": "Bj_P1Wx2CYaO"
      },
      "execution_count": 109,
      "outputs": []
    },
    {
      "cell_type": "code",
      "execution_count": 110,
      "metadata": {
        "id": "pEmnjBnSCE_o"
      },
      "outputs": [],
      "source": [
        "def prec(VisitCounts, edges, k):\n",
        "  node_edges=set()\n",
        "  precision=0\n",
        "  for j in range(k):\n",
        "    x,y=VisitCounts[j]\n",
        "    node_edges.add(x)\n",
        "\n",
        "  count=len(node_edges.intersection(edges))\n",
        "  precision+=count/k\n",
        "\n",
        "  return precision\n"
      ]
    },
    {
      "cell_type": "code",
      "source": [
        "from sklearn.metrics import average_precision_score\n",
        "def avg_prec(VisitCounts, edges, k):\n",
        "  node_edges=set()\n",
        "  true_edge=[]\n",
        "  pred_edge=[]\n",
        "  precision=0\n",
        "  for j in range(len(VisitCounts)):\n",
        "    x,y=VisitCounts[j]\n",
        "    node_edges.add(x)\n",
        "    pred_edge.append(y)\n",
        "    if x in edges:\n",
        "      true_edge.append(1)\n",
        "    else:\n",
        "      true_edge.append(0)\n",
        "\n",
        "  pred_edges=[]\n",
        "  total=sum(pred_edge)\n",
        "  for i in pred_edge:\n",
        "    if total ==0 :\n",
        "      pred_edges.append(0)\n",
        "    else:\n",
        "      pred_edges.append(float(i)/total)\n",
        "  # pred_edge = [float(i)/sum(pred_edge) for i in pred_edge if sum(pred_edge) !=0 else 0]\n",
        "  precision=average_precision_score(true_edge, pred_edge)\n",
        "\n",
        "  return precision\n"
      ],
      "metadata": {
        "id": "LEQh5S63jDrk"
      },
      "execution_count": 111,
      "outputs": []
    },
    {
      "cell_type": "markdown",
      "metadata": {
        "id": "w_tSV10VCF9E"
      },
      "source": [
        "DATASET CONSTRUCTION"
      ]
    },
    {
      "cell_type": "code",
      "execution_count": null,
      "metadata": {
        "id": "Vnyx20x5CFLW"
      },
      "outputs": [],
      "source": [
        "import copy\n",
        "G2=copy.deepcopy(G)\n",
        "test_edges=[]\n",
        "\n",
        "for i in G2.nodes:\n",
        "  n=list(G2.neighbors(i))\n",
        "  # print(n)\n",
        "  five_percent=int(0.05*len(n))\n",
        "\n",
        "  edge=random.sample(n,k=five_percent)\n",
        "  for j in range(five_percent):\n",
        "    test_edges.append((i,edge[j]))\n",
        "    G2.remove_edge(i,edge[j])\n",
        "      \n"
      ]
    },
    {
      "cell_type": "code",
      "execution_count": null,
      "metadata": {
        "id": "41CPFF_HIjMz"
      },
      "outputs": [],
      "source": [
        "import copy\n",
        "G3=copy.deepcopy(G)\n",
        "eval_edges=[]\n",
        "\n",
        "for i in G3.nodes:\n",
        "  n=list(G3.neighbors(i))\n",
        "  # print(n)\n",
        "  five_percent=int(0.05*len(n))\n",
        "\n",
        "  edge=random.sample(n,k=five_percent)\n",
        "  for j in range(five_percent):\n",
        "    eval_edges.append((i,edge[j]))\n",
        "    G3.remove_edge(i,edge[j])\n",
        "      \n"
      ]
    },
    {
      "cell_type": "code",
      "source": [
        "from tqdm import tqdm"
      ],
      "metadata": {
        "id": "bZfWb76H43hH"
      },
      "execution_count": null,
      "outputs": []
    },
    {
      "cell_type": "code",
      "execution_count": null,
      "metadata": {
        "id": "md0n75wjPa_C",
        "colab": {
          "base_uri": "https://localhost:8080/",
          "height": 240
        },
        "outputId": "6b1c9986-6abf-456c-e5b5-ad9912ca588c"
      },
      "outputs": [
        {
          "output_type": "error",
          "ename": "NameError",
          "evalue": "ignored",
          "traceback": [
            "\u001b[0;31m---------------------------------------------------------------------------\u001b[0m",
            "\u001b[0;31mNameError\u001b[0m                                 Traceback (most recent call last)",
            "\u001b[0;32m<ipython-input-132-638bdf7f10b8>\u001b[0m in \u001b[0;36m<cell line: 10>\u001b[0;34m()\u001b[0m\n\u001b[1;32m      8\u001b[0m \u001b[0maccuracy_100\u001b[0m\u001b[0;34m=\u001b[0m\u001b[0;36m0\u001b[0m\u001b[0;34m\u001b[0m\u001b[0;34m\u001b[0m\u001b[0m\n\u001b[1;32m      9\u001b[0m \u001b[0maccuracy_1000\u001b[0m\u001b[0;34m=\u001b[0m\u001b[0;36m0\u001b[0m\u001b[0;34m\u001b[0m\u001b[0;34m\u001b[0m\u001b[0m\n\u001b[0;32m---> 10\u001b[0;31m \u001b[0mNUMBER_OF_NODES\u001b[0m\u001b[0;34m=\u001b[0m\u001b[0mG3\u001b[0m\u001b[0;34m.\u001b[0m\u001b[0mnumber_of_nodes\u001b[0m\u001b[0;34m(\u001b[0m\u001b[0;34m)\u001b[0m\u001b[0;34m\u001b[0m\u001b[0;34m\u001b[0m\u001b[0m\n\u001b[0m\u001b[1;32m     11\u001b[0m \u001b[0;32mfor\u001b[0m \u001b[0mi\u001b[0m \u001b[0;32min\u001b[0m \u001b[0mtqdm\u001b[0m\u001b[0;34m(\u001b[0m\u001b[0mG3\u001b[0m\u001b[0;34m.\u001b[0m\u001b[0mnodes\u001b[0m\u001b[0;34m)\u001b[0m\u001b[0;34m:\u001b[0m\u001b[0;34m\u001b[0m\u001b[0;34m\u001b[0m\u001b[0m\n\u001b[1;32m     12\u001b[0m   \u001b[0medges\u001b[0m\u001b[0;34m=\u001b[0m\u001b[0mset\u001b[0m\u001b[0;34m(\u001b[0m\u001b[0;34m)\u001b[0m\u001b[0;34m\u001b[0m\u001b[0;34m\u001b[0m\u001b[0m\n",
            "\u001b[0;31mNameError\u001b[0m: name 'G3' is not defined"
          ]
        }
      ],
      "source": [
        "debug=False\n",
        "N=10000\n",
        "threshold=1\n",
        "accuracy_5=0\n",
        "accuracy_10=0\n",
        "accuracy_20=0\n",
        "accuracy_50=0\n",
        "accuracy_100=0\n",
        "accuracy_1000=0\n",
        "NUMBER_OF_NODES=G3.number_of_nodes()\n",
        "for i in tqdm(G3.nodes):\n",
        "  edges=set()\n",
        "  currentVideo=i\n",
        "  for u,v in eval_edges:\n",
        "    if u==currentVideo:\n",
        "      edges.add(v)\n",
        "    elif v==currentVideo:\n",
        "      edges.add(u)\n",
        "  \n",
        "  if len(edges)==0:\n",
        "    NUMBER_OF_NODES-=1\n",
        "    continue\n",
        "  Q,Nq=construct_query(G3,N,currentVideo,threshold)\n",
        "\n",
        "  F=G3.nodes[currentVideo]\n",
        "  T=[0.5]\n",
        "  VisitCounts=PixieRandomWalkMultiple(Q,Nq,G3,F,N,T)\n",
        "\n",
        "  VisitCounts=sorted(VisitCounts.items(), key=lambda x:x[1],reverse=True)\n",
        "  \n",
        "  accuracy_5+=acc(VisitCounts, edges,5)\n",
        "  accuracy_10+=acc(VisitCounts, edges,10)\n",
        "  accuracy_20+=acc(VisitCounts, edges,20)\n",
        "  accuracy_50+=acc(VisitCounts, edges,50)\n",
        "  accuracy_100+=acc(VisitCounts, edges,100)\n",
        "  accuracy_1000+=acc(VisitCounts, edges,1000)\n",
        "  \n",
        "\n",
        "  if debug:\n",
        "    print(i)\n",
        "    print(Q)\n",
        "    print(edges)\n",
        "    # print(node_edges)\n",
        "    print(count)\n",
        "    break\n",
        "\n",
        "accuracy_5 /=NUMBER_OF_NODES\n",
        "accuracy_10 /=NUMBER_OF_NODES\n",
        "accuracy_20 /=NUMBER_OF_NODES\n",
        "accuracy_50 /=NUMBER_OF_NODES\n",
        "accuracy_100 /=NUMBER_OF_NODES\n",
        "accuracy_1000 /=NUMBER_OF_NODES"
      ]
    },
    {
      "cell_type": "code",
      "execution_count": null,
      "metadata": {
        "id": "TCCPmjSIfT-G",
        "colab": {
          "base_uri": "https://localhost:8080/"
        },
        "outputId": "2af5d665-59bd-4316-ee8d-f5bbb1497690"
      },
      "outputs": [
        {
          "output_type": "stream",
          "name": "stdout",
          "text": [
            "Accuracy for Top 5 2.2265962772493526\n",
            "Accuracy for Top 10 3.9707823237609787\n",
            "Accuracy for Top 20 6.3630364538297\n",
            "Accuracy for Top 50 7.139292161592256\n",
            "Accuracy for Top 100 8.388628468271667\n",
            "Accuracy for Top 1000 28.799701148379075\n"
          ]
        }
      ],
      "source": [
        "print(\"Accuracy for Top 5\", accuracy_5*100)\n",
        "print(\"Accuracy for Top 10\", accuracy_10*100)\n",
        "print(\"Accuracy for Top 20\", accuracy_20*100)\n",
        "print(\"Accuracy for Top 50\", accuracy_50*100)\n",
        "print(\"Accuracy for Top 100\", accuracy_100*100)\n",
        "print(\"Accuracy for Top 1000\", accuracy_1000*100)"
      ]
    },
    {
      "cell_type": "code",
      "source": [],
      "metadata": {
        "id": "xrYN6ChX35VG"
      },
      "execution_count": null,
      "outputs": []
    },
    {
      "cell_type": "code",
      "source": [],
      "metadata": {
        "id": "XKpE_M27CEqx"
      },
      "execution_count": null,
      "outputs": []
    },
    {
      "cell_type": "code",
      "source": [],
      "metadata": {
        "id": "B4wFuspnCEtE"
      },
      "execution_count": null,
      "outputs": []
    },
    {
      "cell_type": "code",
      "source": [
        "import pickle\n",
        "with open(\"G_short_removed.pk\",\"rb\") as f:\n",
        "  G_short_removed=pickle.load(f)\n",
        "\n",
        "with open(\"G_short_removed_edges.pk\",\"rb\") as f:\n",
        "  G_short_removed_edges=pickle.load(f)"
      ],
      "metadata": {
        "id": "nuGrFiSxCEvZ"
      },
      "execution_count": null,
      "outputs": []
    },
    {
      "cell_type": "code",
      "source": [
        "G=nx.Graph()\n",
        "dir=os.getcwd()+'/data'\n",
        "videos_to_remove=[]\n",
        "for filename in os.listdir(dir):\n",
        "   with open(os.path.join(dir, filename), 'r') as f:\n",
        "     for line in f.readlines():\n",
        "      data=line.split(\"\\t\")\n",
        "      related_id=data[9:]\n",
        "      if len(related_id)>0:\n",
        "        related_id[-1]=data[-1][:-1]\n",
        "      \n",
        "      #REMOVING THOSE NODES WHICH HAVE NO DATA\n",
        "      if(len(data)==1):\n",
        "        videos_to_remove.append(data[-1][:-1])\n",
        "        continue\n",
        "      G.add_node(data[0],uploader=data[1],age=data[2],category=data[3],length=data[4],views=data[5],rate=data[6],ratings=data[7],comments=data[8])\n"
      ],
      "metadata": {
        "id": "lQLgs6eAFShZ"
      },
      "execution_count": 11,
      "outputs": []
    },
    {
      "cell_type": "code",
      "source": [
        "G=nx.convert_node_labels_to_integers(G,first_label=0)"
      ],
      "metadata": {
        "id": "zdNR8q4eIWA0"
      },
      "execution_count": 12,
      "outputs": []
    },
    {
      "cell_type": "code",
      "source": [
        "Edges=list(G_short_removed.edges)\n"
      ],
      "metadata": {
        "id": "hLSlr5eWGorO"
      },
      "execution_count": null,
      "outputs": []
    },
    {
      "cell_type": "code",
      "source": [
        "for i in Edges:\n",
        "  G.add_edge(i[0],i[1])"
      ],
      "metadata": {
        "id": "HAENCXVyFoMW"
      },
      "execution_count": null,
      "outputs": []
    },
    {
      "cell_type": "code",
      "source": [
        "delete_node=[]\n",
        "for i in G.nodes:\n",
        "  if len(list(G.neighbors(i)))==0:\n",
        "    delete_node.append(i)"
      ],
      "metadata": {
        "id": "m8yHE4ERHx3W"
      },
      "execution_count": null,
      "outputs": []
    },
    {
      "cell_type": "code",
      "source": [
        "for i in delete_node:\n",
        "  G.remove_node(i)"
      ],
      "metadata": {
        "id": "gYaXawbxJBHJ"
      },
      "execution_count": null,
      "outputs": []
    },
    {
      "cell_type": "code",
      "source": [
        "debug=False\n",
        "N=1000\n",
        "threshold=1\n",
        "accuracy_5=0\n",
        "accuracy_10=0\n",
        "accuracy_20=0\n",
        "accuracy_50=0\n",
        "accuracy_100=0\n",
        "accuracy_1000=0\n",
        "prec_5=0\n",
        "prec_10=0\n",
        "prec_20=0\n",
        "prec_50=0\n",
        "prec_100=0\n",
        "prec_1000=0\n",
        "NUMBER_OF_NODES=G.number_of_nodes()\n",
        "for i in tqdm(G.nodes):\n",
        "  edges=set()\n",
        "  currentVideo=i\n",
        "  for u,v in G_short_removed_edges:\n",
        "    if u==currentVideo:\n",
        "      edges.add(v)\n",
        "    elif v==currentVideo:\n",
        "      edges.add(u)\n",
        "  \n",
        "  if len(edges)==0:\n",
        "    NUMBER_OF_NODES-=1\n",
        "    continue\n",
        "  Q,Nq=construct_query(G,N,currentVideo,threshold)\n",
        "\n",
        "  F=G.nodes[currentVideo]\n",
        "  T=[0]\n",
        "  VisitCounts=PixieRandomWalkMultiple(Q,Nq,G,F,N,T)\n",
        "\n",
        "  VisitCounts=sorted(VisitCounts.items(), key=lambda x:x[1],reverse=True)\n",
        "  \n",
        "  accuracy_5+=acc(VisitCounts, edges,5)\n",
        "  accuracy_10+=acc(VisitCounts, edges,10)\n",
        "  accuracy_20+=acc(VisitCounts, edges,20)\n",
        "  accuracy_50+=acc(VisitCounts, edges,50)\n",
        "  accuracy_100+=acc(VisitCounts, edges,100)\n",
        "  accuracy_1000+=acc(VisitCounts, edges,1000)\n",
        "  \n",
        "  prec_5+=prec(VisitCounts, edges,5)\n",
        "  prec_10+=prec(VisitCounts, edges,10)\n",
        "  prec_20+=prec(VisitCounts, edges,20)\n",
        "  prec_50+=prec(VisitCounts, edges,50)\n",
        "  prec_100+=prec(VisitCounts, edges,100)\n",
        "  prec_1000+=prec(VisitCounts, edges,1000)\n",
        "  if debug:\n",
        "    print(i)\n",
        "    print(Q)\n",
        "    print(edges)\n",
        "    # print(node_edges)\n",
        "    print(count)\n",
        "    break\n",
        "\n",
        "accuracy_5 /=NUMBER_OF_NODES\n",
        "accuracy_10 /=NUMBER_OF_NODES\n",
        "accuracy_20 /=NUMBER_OF_NODES\n",
        "accuracy_50 /=NUMBER_OF_NODES\n",
        "accuracy_100 /=NUMBER_OF_NODES\n",
        "accuracy_1000 /=NUMBER_OF_NODES\n",
        "prec_5 /=NUMBER_OF_NODES\n",
        "prec_10 /=NUMBER_OF_NODES\n",
        "prec_20 /=NUMBER_OF_NODES\n",
        "prec_50 /=NUMBER_OF_NODES\n",
        "prec_100 /=NUMBER_OF_NODES\n",
        "prec_1000 /=NUMBER_OF_NODES"
      ],
      "metadata": {
        "colab": {
          "base_uri": "https://localhost:8080/"
        },
        "id": "tqKHMcsZGgVR",
        "outputId": "c43a4fca-887e-4c80-a7f5-c8bdc88ce6c7"
      },
      "execution_count": null,
      "outputs": [
        {
          "output_type": "stream",
          "name": "stderr",
          "text": [
            "100%|██████████| 5705/5705 [03:19<00:00, 28.61it/s]\n"
          ]
        }
      ]
    },
    {
      "cell_type": "code",
      "source": [
        "print(\"Accuracy for Top 5\", accuracy_5*100)\n",
        "print(\"Accuracy for Top 10\", accuracy_10*100)\n",
        "print(\"Accuracy for Top 20\", accuracy_20*100)\n",
        "print(\"Accuracy for Top 50\", accuracy_50*100)\n",
        "print(\"Accuracy for Top 100\", accuracy_100*100)\n",
        "print(\"Accuracy for Top 1000\", accuracy_1000*100)\n",
        "print(\"Precision for Top 5\", prec_5)\n",
        "print(\"Precision for Top 10\", prec_10)\n",
        "print(\"Precision for Top 20\", prec_20)\n",
        "print(\"Precision for Top 50\", prec_50)\n",
        "print(\"Precision for Top 100\", prec_100)\n",
        "print(\"Precision for Top 1000\", prec_1000)"
      ],
      "metadata": {
        "colab": {
          "base_uri": "https://localhost:8080/"
        },
        "id": "xk7g9x2BJAD-",
        "outputId": "1d142d51-3623-4eb4-f866-969415e16cbe"
      },
      "execution_count": null,
      "outputs": [
        {
          "output_type": "stream",
          "name": "stdout",
          "text": [
            "Accuracy for Top 5 12.966771591624356\n",
            "Accuracy for Top 10 23.233495989679714\n",
            "Accuracy for Top 20 37.836914209116806\n",
            "Accuracy for Top 50 61.248738719292376\n",
            "Accuracy for Top 100 76.26027649879246\n",
            "Accuracy for Top 1000 91.81766767455812\n",
            "Precision for Top 5 0.054495484884177735\n",
            "Precision for Top 10 0.05123674911660705\n",
            "Precision for Top 20 0.043718099725166014\n",
            "Precision for Top 50 0.02997251668629813\n",
            "Precision for Top 100 0.018892815076560713\n",
            "Precision for Top 1000 0.002227718884962692\n"
          ]
        }
      ]
    },
    {
      "cell_type": "code",
      "source": [],
      "metadata": {
        "id": "4whY3YTGHnrX"
      },
      "execution_count": null,
      "outputs": []
    },
    {
      "cell_type": "code",
      "source": [],
      "metadata": {
        "id": "jQoWn8ug48oF"
      },
      "execution_count": null,
      "outputs": []
    },
    {
      "cell_type": "code",
      "source": [],
      "metadata": {
        "id": "UoTW8plR48qh"
      },
      "execution_count": null,
      "outputs": []
    },
    {
      "cell_type": "code",
      "source": [
        "import pickle\n",
        "with open(\"G_edges.pk\",\"rb\") as f:\n",
        "  G_edges=pickle.load(f)\n",
        "\n",
        "with open(\"G_true.pk\",\"rb\") as f:\n",
        "  G_true=pickle.load(f)"
      ],
      "metadata": {
        "id": "VnG0aoc-48sz"
      },
      "execution_count": 132,
      "outputs": []
    },
    {
      "cell_type": "code",
      "source": [
        "G_edges=G_edges.tolist()"
      ],
      "metadata": {
        "id": "FgJHsHcJ5GpG"
      },
      "execution_count": 133,
      "outputs": []
    },
    {
      "cell_type": "code",
      "source": [
        "G=nx.Graph()\n",
        "dir=os.getcwd()+'/data'\n",
        "videos_to_remove=[]\n",
        "for filename in os.listdir(dir):\n",
        "   with open(os.path.join(dir, filename), 'r') as f:\n",
        "     for line in f.readlines():\n",
        "      data=line.split(\"\\t\")\n",
        "      related_id=data[9:]\n",
        "      if len(related_id)>0:\n",
        "        related_id[-1]=data[-1][:-1]\n",
        "      \n",
        "      #REMOVING THOSE NODES WHICH HAVE NO DATA\n",
        "      if(len(data)==1):\n",
        "        videos_to_remove.append(data[-1][:-1])\n",
        "        continue\n",
        "      G.add_node(data[0],uploader=data[1],age=data[2],category=data[3],length=data[4],views=data[5],rate=data[6],ratings=data[7],comments=data[8])\n"
      ],
      "metadata": {
        "id": "tr_SqoFN5Jdc"
      },
      "execution_count": 134,
      "outputs": []
    },
    {
      "cell_type": "code",
      "source": [
        "G=nx.convert_node_labels_to_integers(G,first_label=0)"
      ],
      "metadata": {
        "id": "hFE3rOZNTpCg"
      },
      "execution_count": 135,
      "outputs": []
    },
    {
      "cell_type": "code",
      "source": [
        "Edges=[]\n",
        "for i in range(len(G_edges)):\n",
        "  u,v=G_edges[i]\n",
        "  if G_true[i] ==0:\n",
        "    Edges.append(G_edges[i])\n",
        "  else:\n",
        "    G.add_edge(u,v)"
      ],
      "metadata": {
        "id": "QSCErS38Tz3u"
      },
      "execution_count": 136,
      "outputs": []
    },
    {
      "cell_type": "code",
      "source": [
        "delete_node=[]\n",
        "for i in G.nodes:\n",
        "  if len(list(G.neighbors(i)))==0:\n",
        "    delete_node.append(i)"
      ],
      "metadata": {
        "id": "5Vcq2QXeVXmS"
      },
      "execution_count": 137,
      "outputs": []
    },
    {
      "cell_type": "code",
      "source": [
        "for i in delete_node:\n",
        "  G.remove_node(i)"
      ],
      "metadata": {
        "id": "8nc5AHKBVZjF"
      },
      "execution_count": 138,
      "outputs": []
    },
    {
      "cell_type": "code",
      "source": [
        "G.number_of_edges()"
      ],
      "metadata": {
        "colab": {
          "base_uri": "https://localhost:8080/"
        },
        "id": "qjiNtDCwUZgX",
        "outputId": "687fa63f-24b2-4958-a2ad-b762b3d16d71"
      },
      "execution_count": 139,
      "outputs": [
        {
          "output_type": "execute_result",
          "data": {
            "text/plain": [
              "210"
            ]
          },
          "metadata": {},
          "execution_count": 139
        }
      ]
    },
    {
      "cell_type": "code",
      "source": [
        "G.number_of_nodes()"
      ],
      "metadata": {
        "colab": {
          "base_uri": "https://localhost:8080/"
        },
        "id": "czmSz6ehUeCm",
        "outputId": "e958f352-6a8e-419b-a3db-a1306a9aaa34"
      },
      "execution_count": 120,
      "outputs": [
        {
          "output_type": "execute_result",
          "data": {
            "text/plain": [
              "772"
            ]
          },
          "metadata": {},
          "execution_count": 120
        }
      ]
    },
    {
      "cell_type": "code",
      "source": [
        "len(G_edges)"
      ],
      "metadata": {
        "colab": {
          "base_uri": "https://localhost:8080/"
        },
        "id": "ZrXMmSocZboW",
        "outputId": "58bbaa3e-89d7-4a72-d004-d66882c737e7"
      },
      "execution_count": 140,
      "outputs": [
        {
          "output_type": "execute_result",
          "data": {
            "text/plain": [
              "295716"
            ]
          },
          "metadata": {},
          "execution_count": 140
        }
      ]
    },
    {
      "cell_type": "code",
      "source": [
        "debug=False\n",
        "N=1000\n",
        "threshold=1\n",
        "accuracy_5=0\n",
        "accuracy_10=0\n",
        "accuracy_20=0\n",
        "accuracy_50=0\n",
        "accuracy_100=0\n",
        "\n",
        "prec_5=0\n",
        "prec_10=0\n",
        "prec_20=0\n",
        "prec_50=0\n",
        "prec_100=0\n",
        "\n",
        "NUMBER_OF_NODES=G.number_of_nodes()\n",
        "for i in tqdm(G.nodes):\n",
        "  edges=set()\n",
        "  currentVideo=i\n",
        "  for u,v in Edges:\n",
        "    if u==currentVideo:\n",
        "      edges.add(v)\n",
        "    elif v==currentVideo:\n",
        "      edges.add(u)\n",
        "  \n",
        "  if len(edges)==0:\n",
        "    NUMBER_OF_NODES-=1\n",
        "    continue\n",
        "  Q,Nq=construct_query(G,N,currentVideo,threshold)\n",
        "  \n",
        "  F=G.nodes[currentVideo]\n",
        "\n",
        "  T=[0]\n",
        "  VisitCounts=PixieRandomWalkMultiple(Q,Nq,G,F,N,T)\n",
        "  # print(VisitCounts)\n",
        "  VisitCounts=sorted(VisitCounts.items(), key=lambda x:x[1],reverse=True)\n",
        "  accuracy_5+=acc(VisitCounts, edges,5)\n",
        "  accuracy_10+=acc(VisitCounts, edges,10)\n",
        "  accuracy_20+=acc(VisitCounts, edges,20)\n",
        "  accuracy_50+=acc(VisitCounts, edges,50)\n",
        "  accuracy_100+=acc(VisitCounts, edges,100)\n",
        "  prec_5+=avg_prec(VisitCounts, edges,5)\n",
        "  # prec_10+=avg_prec(VisitCounts, edges,10)\n",
        "  # prec_20+=avg_prec(VisitCounts, edges,20)\n",
        "  # prec_50+=avg_prec(VisitCounts, edges,50)\n",
        "  # prec_100+=avg_prec(VisitCounts, edges,100)\n",
        "  if debug:\n",
        "    print(i)\n",
        "    print(Q)\n",
        "    print(edges)\n",
        "    # print(node_edges)\n",
        "    print(count)\n",
        "    break\n",
        "\n",
        "accuracy_5 /=NUMBER_OF_NODES\n",
        "accuracy_10 /=NUMBER_OF_NODES\n",
        "accuracy_20 /=NUMBER_OF_NODES\n",
        "accuracy_50 /=NUMBER_OF_NODES\n",
        "accuracy_100 /=NUMBER_OF_NODES\n",
        "accuracy_1000 /=NUMBER_OF_NODES\n",
        "prec_5 /=NUMBER_OF_NODES\n",
        "# prec_10 /=NUMBER_OF_NODES\n",
        "# prec_20 /=NUMBER_OF_NODES\n",
        "# prec_50 /=NUMBER_OF_NODES\n",
        "# prec_100 /=NUMBER_OF_NODES\n",
        "# prec_1000 /=NUMBER_OF_NODES"
      ],
      "metadata": {
        "colab": {
          "base_uri": "https://localhost:8080/"
        },
        "id": "kRt6PgZUUnYA",
        "outputId": "955a4617-7fc3-4ee3-974c-3bce66c88f48"
      },
      "execution_count": 141,
      "outputs": [
        {
          "output_type": "stream",
          "name": "stderr",
          "text": [
            "  1%|          | 2/285 [00:00<00:26, 10.56it/s]"
          ]
        },
        {
          "output_type": "stream",
          "name": "stdout",
          "text": [
            "2\n",
            "2\n",
            "3\n"
          ]
        },
        {
          "output_type": "stream",
          "name": "stderr",
          "text": [
            "\r  1%|▏         | 4/285 [00:00<00:26, 10.63it/s]"
          ]
        },
        {
          "output_type": "stream",
          "name": "stdout",
          "text": [
            "2\n",
            "1\n",
            "2\n"
          ]
        },
        {
          "output_type": "stream",
          "name": "stderr",
          "text": [
            "  3%|▎         | 8/285 [00:00<00:26, 10.37it/s]"
          ]
        },
        {
          "output_type": "stream",
          "name": "stdout",
          "text": [
            "2\n",
            "3\n",
            "1\n"
          ]
        },
        {
          "output_type": "stream",
          "name": "stderr",
          "text": [
            "\r  4%|▎         | 10/285 [00:00<00:27, 10.10it/s]"
          ]
        },
        {
          "output_type": "stream",
          "name": "stdout",
          "text": [
            "2\n",
            "3\n",
            "1\n"
          ]
        },
        {
          "output_type": "stream",
          "name": "stderr",
          "text": [
            "  5%|▍         | 13/285 [00:01<00:27,  9.95it/s]"
          ]
        },
        {
          "output_type": "stream",
          "name": "stdout",
          "text": [
            "1\n",
            "1\n",
            "1\n"
          ]
        },
        {
          "output_type": "stream",
          "name": "stderr",
          "text": [
            "  6%|▌         | 17/285 [00:01<00:25, 10.33it/s]"
          ]
        },
        {
          "output_type": "stream",
          "name": "stdout",
          "text": [
            "1\n",
            "1\n",
            "1\n"
          ]
        },
        {
          "output_type": "stream",
          "name": "stderr",
          "text": [
            "  7%|▋         | 20/285 [00:01<00:26,  9.82it/s]"
          ]
        },
        {
          "output_type": "stream",
          "name": "stdout",
          "text": [
            "1\n",
            "1\n"
          ]
        },
        {
          "output_type": "stream",
          "name": "stderr",
          "text": [
            "\r  8%|▊         | 22/285 [00:02<00:26, 10.08it/s]"
          ]
        },
        {
          "output_type": "stream",
          "name": "stdout",
          "text": [
            "1\n",
            "1\n",
            "1\n"
          ]
        },
        {
          "output_type": "stream",
          "name": "stderr",
          "text": [
            "\r  8%|▊         | 24/285 [00:02<00:25, 10.24it/s]"
          ]
        },
        {
          "output_type": "stream",
          "name": "stdout",
          "text": [
            "1\n",
            "1\n",
            "1\n"
          ]
        },
        {
          "output_type": "stream",
          "name": "stderr",
          "text": [
            " 10%|▉         | 28/285 [00:02<00:24, 10.57it/s]"
          ]
        },
        {
          "output_type": "stream",
          "name": "stdout",
          "text": [
            "1\n",
            "1\n",
            "1\n"
          ]
        },
        {
          "output_type": "stream",
          "name": "stderr",
          "text": [
            "\r 11%|█         | 30/285 [00:02<00:24, 10.27it/s]"
          ]
        },
        {
          "output_type": "stream",
          "name": "stdout",
          "text": [
            "1\n",
            "1\n",
            "2\n"
          ]
        },
        {
          "output_type": "stream",
          "name": "stderr",
          "text": [
            " 12%|█▏        | 34/285 [00:03<00:24, 10.25it/s]"
          ]
        },
        {
          "output_type": "stream",
          "name": "stdout",
          "text": [
            "1\n",
            "2\n",
            "1\n"
          ]
        },
        {
          "output_type": "stream",
          "name": "stderr",
          "text": [
            "\r 13%|█▎        | 36/285 [00:03<00:24, 10.29it/s]"
          ]
        },
        {
          "output_type": "stream",
          "name": "stdout",
          "text": [
            "1\n",
            "1\n",
            "1\n"
          ]
        },
        {
          "output_type": "stream",
          "name": "stderr",
          "text": [
            " 14%|█▍        | 40/285 [00:03<00:23, 10.43it/s]"
          ]
        },
        {
          "output_type": "stream",
          "name": "stdout",
          "text": [
            "2\n",
            "2\n",
            "2\n"
          ]
        },
        {
          "output_type": "stream",
          "name": "stderr",
          "text": [
            "\r 15%|█▍        | 42/285 [00:04<00:23, 10.21it/s]"
          ]
        },
        {
          "output_type": "stream",
          "name": "stdout",
          "text": [
            "3\n",
            "2\n",
            "3\n"
          ]
        },
        {
          "output_type": "stream",
          "name": "stderr",
          "text": [
            " 16%|█▌        | 45/285 [00:04<00:24,  9.91it/s]"
          ]
        },
        {
          "output_type": "stream",
          "name": "stdout",
          "text": [
            "2\n",
            "1\n",
            "1\n"
          ]
        },
        {
          "output_type": "stream",
          "name": "stderr",
          "text": [
            " 17%|█▋        | 49/285 [00:04<00:22, 10.32it/s]"
          ]
        },
        {
          "output_type": "stream",
          "name": "stdout",
          "text": [
            "2\n",
            "1\n",
            "3\n"
          ]
        },
        {
          "output_type": "stream",
          "name": "stderr",
          "text": [
            "\r 18%|█▊        | 51/285 [00:05<00:23, 10.07it/s]"
          ]
        },
        {
          "output_type": "stream",
          "name": "stdout",
          "text": [
            "2\n",
            "1\n",
            "1\n"
          ]
        },
        {
          "output_type": "stream",
          "name": "stderr",
          "text": [
            "\r 19%|█▊        | 53/285 [00:05<00:22, 10.11it/s]"
          ]
        },
        {
          "output_type": "stream",
          "name": "stdout",
          "text": [
            "1\n",
            "1\n"
          ]
        },
        {
          "output_type": "stream",
          "name": "stderr",
          "text": [
            " 20%|█▉        | 56/285 [00:05<00:27,  8.45it/s]"
          ]
        },
        {
          "output_type": "stream",
          "name": "stdout",
          "text": [
            "1\n",
            "1\n"
          ]
        },
        {
          "output_type": "stream",
          "name": "stderr",
          "text": [
            " 20%|██        | 58/285 [00:05<00:30,  7.41it/s]"
          ]
        },
        {
          "output_type": "stream",
          "name": "stdout",
          "text": [
            "1\n",
            "1\n"
          ]
        },
        {
          "output_type": "stream",
          "name": "stderr",
          "text": [
            " 21%|██        | 60/285 [00:06<00:33,  6.78it/s]"
          ]
        },
        {
          "output_type": "stream",
          "name": "stdout",
          "text": [
            "1\n",
            "2\n"
          ]
        },
        {
          "output_type": "stream",
          "name": "stderr",
          "text": [
            " 22%|██▏       | 62/285 [00:06<00:34,  6.42it/s]"
          ]
        },
        {
          "output_type": "stream",
          "name": "stdout",
          "text": [
            "2\n",
            "2\n"
          ]
        },
        {
          "output_type": "stream",
          "name": "stderr",
          "text": [
            " 22%|██▏       | 64/285 [00:06<00:34,  6.34it/s]"
          ]
        },
        {
          "output_type": "stream",
          "name": "stdout",
          "text": [
            "2\n",
            "2\n"
          ]
        },
        {
          "output_type": "stream",
          "name": "stderr",
          "text": [
            " 23%|██▎       | 66/285 [00:07<00:35,  6.19it/s]"
          ]
        },
        {
          "output_type": "stream",
          "name": "stdout",
          "text": [
            "2\n",
            "1\n"
          ]
        },
        {
          "output_type": "stream",
          "name": "stderr",
          "text": [
            " 24%|██▍       | 68/285 [00:07<00:35,  6.14it/s]"
          ]
        },
        {
          "output_type": "stream",
          "name": "stdout",
          "text": [
            "1\n",
            "1\n"
          ]
        },
        {
          "output_type": "stream",
          "name": "stderr",
          "text": [
            " 25%|██▍       | 70/285 [00:07<00:34,  6.17it/s]"
          ]
        },
        {
          "output_type": "stream",
          "name": "stdout",
          "text": [
            "1\n",
            "1\n"
          ]
        },
        {
          "output_type": "stream",
          "name": "stderr",
          "text": [
            " 25%|██▌       | 72/285 [00:08<00:35,  6.00it/s]"
          ]
        },
        {
          "output_type": "stream",
          "name": "stdout",
          "text": [
            "2\n",
            "2\n"
          ]
        },
        {
          "output_type": "stream",
          "name": "stderr",
          "text": [
            " 26%|██▋       | 75/285 [00:08<00:26,  7.90it/s]"
          ]
        },
        {
          "output_type": "stream",
          "name": "stdout",
          "text": [
            "1\n",
            "2\n",
            "2\n"
          ]
        },
        {
          "output_type": "stream",
          "name": "stderr",
          "text": [
            "\r 27%|██▋       | 77/285 [00:08<00:23,  8.69it/s]"
          ]
        },
        {
          "output_type": "stream",
          "name": "stdout",
          "text": [
            "2\n",
            "1\n",
            "2\n"
          ]
        },
        {
          "output_type": "stream",
          "name": "stderr",
          "text": [
            " 28%|██▊       | 81/285 [00:09<00:21,  9.30it/s]"
          ]
        },
        {
          "output_type": "stream",
          "name": "stdout",
          "text": [
            "2\n",
            "3\n"
          ]
        },
        {
          "output_type": "stream",
          "name": "stderr",
          "text": [
            " 29%|██▉       | 83/285 [00:09<00:21,  9.45it/s]"
          ]
        },
        {
          "output_type": "stream",
          "name": "stdout",
          "text": [
            "2\n",
            "2\n",
            "3\n"
          ]
        },
        {
          "output_type": "stream",
          "name": "stderr",
          "text": [
            " 30%|██▉       | 85/285 [00:09<00:21,  9.52it/s]"
          ]
        },
        {
          "output_type": "stream",
          "name": "stdout",
          "text": [
            "3\n",
            "2\n"
          ]
        },
        {
          "output_type": "stream",
          "name": "stderr",
          "text": [
            "\r 31%|███       | 87/285 [00:09<00:25,  7.80it/s]"
          ]
        },
        {
          "output_type": "stream",
          "name": "stdout",
          "text": [
            "2\n"
          ]
        },
        {
          "output_type": "stream",
          "name": "stderr",
          "text": [
            "\r 31%|███       | 88/285 [00:10<00:30,  6.41it/s]"
          ]
        },
        {
          "output_type": "stream",
          "name": "stdout",
          "text": [
            "3\n"
          ]
        },
        {
          "output_type": "stream",
          "name": "stderr",
          "text": [
            "\r 31%|███       | 89/285 [00:10<00:35,  5.45it/s]"
          ]
        },
        {
          "output_type": "stream",
          "name": "stdout",
          "text": [
            "4\n"
          ]
        },
        {
          "output_type": "stream",
          "name": "stderr",
          "text": [
            "\r 32%|███▏      | 90/285 [00:10<00:38,  5.05it/s]"
          ]
        },
        {
          "output_type": "stream",
          "name": "stdout",
          "text": [
            "3\n"
          ]
        },
        {
          "output_type": "stream",
          "name": "stderr",
          "text": [
            "\r 32%|███▏      | 91/285 [00:10<00:45,  4.30it/s]"
          ]
        },
        {
          "output_type": "stream",
          "name": "stdout",
          "text": [
            "4\n"
          ]
        },
        {
          "output_type": "stream",
          "name": "stderr",
          "text": [
            "\r 32%|███▏      | 92/285 [00:11<00:49,  3.93it/s]"
          ]
        },
        {
          "output_type": "stream",
          "name": "stdout",
          "text": [
            "3\n"
          ]
        },
        {
          "output_type": "stream",
          "name": "stderr",
          "text": [
            "\r 33%|███▎      | 93/285 [00:11<00:48,  3.92it/s]"
          ]
        },
        {
          "output_type": "stream",
          "name": "stdout",
          "text": [
            "1\n",
            "3\n"
          ]
        },
        {
          "output_type": "stream",
          "name": "stderr",
          "text": [
            " 33%|███▎      | 95/285 [00:12<00:46,  4.07it/s]"
          ]
        },
        {
          "output_type": "stream",
          "name": "stdout",
          "text": [
            "1\n",
            "4\n"
          ]
        },
        {
          "output_type": "stream",
          "name": "stderr",
          "text": [
            " 34%|███▍      | 98/285 [00:12<00:30,  6.14it/s]"
          ]
        },
        {
          "output_type": "stream",
          "name": "stdout",
          "text": [
            "4\n",
            "2\n"
          ]
        },
        {
          "output_type": "stream",
          "name": "stderr",
          "text": [
            "\r 35%|███▍      | 99/285 [00:12<00:27,  6.76it/s]"
          ]
        },
        {
          "output_type": "stream",
          "name": "stdout",
          "text": [
            "3\n",
            "2\n",
            "3\n"
          ]
        },
        {
          "output_type": "stream",
          "name": "stderr",
          "text": [
            " 36%|███▌      | 103/285 [00:12<00:20,  8.85it/s]"
          ]
        },
        {
          "output_type": "stream",
          "name": "stdout",
          "text": [
            "1\n",
            "1\n",
            "3\n"
          ]
        },
        {
          "output_type": "stream",
          "name": "stderr",
          "text": [
            " 37%|███▋      | 106/285 [00:13<00:19,  9.34it/s]"
          ]
        },
        {
          "output_type": "stream",
          "name": "stdout",
          "text": [
            "3\n",
            "2\n"
          ]
        },
        {
          "output_type": "stream",
          "name": "stderr",
          "text": [
            "\r 38%|███▊      | 107/285 [00:13<00:19,  9.15it/s]"
          ]
        },
        {
          "output_type": "stream",
          "name": "stdout",
          "text": [
            "2\n",
            "1\n",
            "2\n"
          ]
        },
        {
          "output_type": "stream",
          "name": "stderr",
          "text": [
            " 39%|███▉      | 111/285 [00:13<00:17, 10.10it/s]"
          ]
        },
        {
          "output_type": "stream",
          "name": "stdout",
          "text": [
            "2\n",
            "2\n",
            "2\n"
          ]
        },
        {
          "output_type": "stream",
          "name": "stderr",
          "text": [
            "\r 40%|███▉      | 113/285 [00:13<00:17,  9.80it/s]"
          ]
        },
        {
          "output_type": "stream",
          "name": "stdout",
          "text": [
            "3\n",
            "3\n",
            "2\n"
          ]
        },
        {
          "output_type": "stream",
          "name": "stderr",
          "text": [
            " 41%|████      | 116/285 [00:14<00:17,  9.68it/s]"
          ]
        },
        {
          "output_type": "stream",
          "name": "stdout",
          "text": [
            "2\n",
            "3\n",
            "3\n"
          ]
        },
        {
          "output_type": "stream",
          "name": "stderr",
          "text": [
            " 42%|████▏     | 119/285 [00:14<00:17,  9.45it/s]"
          ]
        },
        {
          "output_type": "stream",
          "name": "stdout",
          "text": [
            "2\n",
            "1\n",
            "3\n"
          ]
        },
        {
          "output_type": "stream",
          "name": "stderr",
          "text": [
            " 43%|████▎     | 123/285 [00:14<00:16,  9.76it/s]"
          ]
        },
        {
          "output_type": "stream",
          "name": "stdout",
          "text": [
            "3\n",
            "2\n"
          ]
        },
        {
          "output_type": "stream",
          "name": "stderr",
          "text": [
            "\r 44%|████▎     | 124/285 [00:15<00:19,  8.18it/s]"
          ]
        },
        {
          "output_type": "stream",
          "name": "stdout",
          "text": [
            "2\n",
            "2\n"
          ]
        },
        {
          "output_type": "stream",
          "name": "stderr",
          "text": [
            " 44%|████▍     | 126/285 [00:15<00:33,  4.74it/s]"
          ]
        },
        {
          "output_type": "stream",
          "name": "stdout",
          "text": [
            "1\n"
          ]
        },
        {
          "output_type": "stream",
          "name": "stderr",
          "text": [
            "\r 45%|████▍     | 127/285 [00:16<00:33,  4.77it/s]"
          ]
        },
        {
          "output_type": "stream",
          "name": "stdout",
          "text": [
            "1\n"
          ]
        },
        {
          "output_type": "stream",
          "name": "stderr",
          "text": [
            "\r 45%|████▍     | 128/285 [00:16<00:35,  4.44it/s]"
          ]
        },
        {
          "output_type": "stream",
          "name": "stdout",
          "text": [
            "2\n"
          ]
        },
        {
          "output_type": "stream",
          "name": "stderr",
          "text": [
            "\r 45%|████▌     | 129/285 [00:16<00:38,  4.09it/s]"
          ]
        },
        {
          "output_type": "stream",
          "name": "stdout",
          "text": [
            "2\n"
          ]
        },
        {
          "output_type": "stream",
          "name": "stderr",
          "text": [
            "\r 46%|████▌     | 130/285 [00:16<00:32,  4.70it/s]"
          ]
        },
        {
          "output_type": "stream",
          "name": "stdout",
          "text": [
            "1\n",
            "1\n",
            "1\n"
          ]
        },
        {
          "output_type": "stream",
          "name": "stderr",
          "text": [
            " 47%|████▋     | 134/285 [00:17<00:20,  7.39it/s]"
          ]
        },
        {
          "output_type": "stream",
          "name": "stdout",
          "text": [
            "1\n",
            "1\n",
            "1\n"
          ]
        },
        {
          "output_type": "stream",
          "name": "stderr",
          "text": [
            "\r 48%|████▊     | 136/285 [00:17<00:18,  8.22it/s]"
          ]
        },
        {
          "output_type": "stream",
          "name": "stdout",
          "text": [
            "1\n",
            "1\n",
            "1\n"
          ]
        },
        {
          "output_type": "stream",
          "name": "stderr",
          "text": [
            " 49%|████▉     | 140/285 [00:17<00:16,  9.02it/s]"
          ]
        },
        {
          "output_type": "stream",
          "name": "stdout",
          "text": [
            "3\n",
            "5\n"
          ]
        },
        {
          "output_type": "stream",
          "name": "stderr",
          "text": [
            " 50%|████▉     | 142/285 [00:18<00:16,  8.50it/s]"
          ]
        },
        {
          "output_type": "stream",
          "name": "stdout",
          "text": [
            "5\n",
            "5\n"
          ]
        },
        {
          "output_type": "stream",
          "name": "stderr",
          "text": [
            "\r 50%|█████     | 143/285 [00:18<00:20,  6.83it/s]"
          ]
        },
        {
          "output_type": "stream",
          "name": "stdout",
          "text": [
            "3\n",
            "4\n"
          ]
        },
        {
          "output_type": "stream",
          "name": "stderr",
          "text": [
            "\r 51%|█████     | 144/285 [00:18<00:29,  4.75it/s]"
          ]
        },
        {
          "output_type": "stream",
          "name": "stdout",
          "text": [
            "3\n"
          ]
        },
        {
          "output_type": "stream",
          "name": "stderr",
          "text": [
            " 51%|█████     | 146/285 [00:19<00:40,  3.44it/s]"
          ]
        },
        {
          "output_type": "stream",
          "name": "stdout",
          "text": [
            "4\n"
          ]
        },
        {
          "output_type": "stream",
          "name": "stderr",
          "text": [
            "\r 52%|█████▏    | 147/285 [00:19<00:40,  3.40it/s]"
          ]
        },
        {
          "output_type": "stream",
          "name": "stdout",
          "text": [
            "5\n"
          ]
        },
        {
          "output_type": "stream",
          "name": "stderr",
          "text": [
            "\r 52%|█████▏    | 148/285 [00:20<00:43,  3.12it/s]"
          ]
        },
        {
          "output_type": "stream",
          "name": "stdout",
          "text": [
            "3\n"
          ]
        },
        {
          "output_type": "stream",
          "name": "stderr",
          "text": [
            "\r 52%|█████▏    | 149/285 [00:20<00:46,  2.92it/s]"
          ]
        },
        {
          "output_type": "stream",
          "name": "stdout",
          "text": [
            "5\n"
          ]
        },
        {
          "output_type": "stream",
          "name": "stderr",
          "text": [
            "\r 53%|█████▎    | 150/285 [00:20<00:47,  2.86it/s]"
          ]
        },
        {
          "output_type": "stream",
          "name": "stdout",
          "text": [
            "2\n"
          ]
        },
        {
          "output_type": "stream",
          "name": "stderr",
          "text": [
            "\r 53%|█████▎    | 151/285 [00:21<00:46,  2.87it/s]"
          ]
        },
        {
          "output_type": "stream",
          "name": "stdout",
          "text": [
            "3\n"
          ]
        },
        {
          "output_type": "stream",
          "name": "stderr",
          "text": [
            "\r 53%|█████▎    | 152/285 [00:21<00:44,  2.97it/s]"
          ]
        },
        {
          "output_type": "stream",
          "name": "stdout",
          "text": [
            "4\n"
          ]
        },
        {
          "output_type": "stream",
          "name": "stderr",
          "text": [
            "\r 54%|█████▎    | 153/285 [00:21<00:38,  3.45it/s]"
          ]
        },
        {
          "output_type": "stream",
          "name": "stdout",
          "text": [
            "3\n",
            "3\n",
            "2\n"
          ]
        },
        {
          "output_type": "stream",
          "name": "stderr",
          "text": [
            " 55%|█████▌    | 157/285 [00:22<00:20,  6.29it/s]"
          ]
        },
        {
          "output_type": "stream",
          "name": "stdout",
          "text": [
            "3\n",
            "3\n"
          ]
        },
        {
          "output_type": "stream",
          "name": "stderr",
          "text": [
            "\r 56%|█████▌    | 159/285 [00:22<00:16,  7.53it/s]"
          ]
        },
        {
          "output_type": "stream",
          "name": "stdout",
          "text": [
            "2\n",
            "2\n",
            "3\n"
          ]
        },
        {
          "output_type": "stream",
          "name": "stderr",
          "text": [
            " 56%|█████▋    | 161/285 [00:22<00:15,  8.11it/s]"
          ]
        },
        {
          "output_type": "stream",
          "name": "stdout",
          "text": [
            "3\n",
            "3\n"
          ]
        },
        {
          "output_type": "stream",
          "name": "stderr",
          "text": [
            " 58%|█████▊    | 165/285 [00:22<00:12,  9.29it/s]"
          ]
        },
        {
          "output_type": "stream",
          "name": "stdout",
          "text": [
            "2\n",
            "2\n",
            "3\n",
            "4\n"
          ]
        },
        {
          "output_type": "stream",
          "name": "stderr",
          "text": [
            " 59%|█████▊    | 167/285 [00:23<00:12,  9.15it/s]"
          ]
        },
        {
          "output_type": "stream",
          "name": "stdout",
          "text": [
            "5\n",
            "3\n"
          ]
        },
        {
          "output_type": "stream",
          "name": "stderr",
          "text": [
            " 60%|█████▉    | 170/285 [00:23<00:12,  9.28it/s]"
          ]
        },
        {
          "output_type": "stream",
          "name": "stdout",
          "text": [
            "3\n",
            "4\n"
          ]
        },
        {
          "output_type": "stream",
          "name": "stderr",
          "text": [
            "\r 60%|██████    | 171/285 [00:23<00:12,  9.00it/s]"
          ]
        },
        {
          "output_type": "stream",
          "name": "stdout",
          "text": [
            "1\n",
            "1\n"
          ]
        },
        {
          "output_type": "stream",
          "name": "stderr",
          "text": [
            "\r 61%|██████    | 173/285 [00:23<00:11,  9.51it/s]"
          ]
        },
        {
          "output_type": "stream",
          "name": "stdout",
          "text": [
            "5\n",
            "4\n",
            "5\n"
          ]
        },
        {
          "output_type": "stream",
          "name": "stderr",
          "text": [
            " 62%|██████▏   | 177/285 [00:24<00:10,  9.97it/s]"
          ]
        },
        {
          "output_type": "stream",
          "name": "stdout",
          "text": [
            "1\n",
            "5\n",
            "1\n"
          ]
        },
        {
          "output_type": "stream",
          "name": "stderr",
          "text": [
            " 63%|██████▎   | 180/285 [00:24<00:11,  9.26it/s]"
          ]
        },
        {
          "output_type": "stream",
          "name": "stdout",
          "text": [
            "3\n",
            "3\n"
          ]
        },
        {
          "output_type": "stream",
          "name": "stderr",
          "text": [
            "\r 64%|██████▎   | 181/285 [00:24<00:11,  8.92it/s]"
          ]
        },
        {
          "output_type": "stream",
          "name": "stdout",
          "text": [
            "5\n",
            "4\n",
            "4\n"
          ]
        },
        {
          "output_type": "stream",
          "name": "stderr",
          "text": [
            " 65%|██████▍   | 185/285 [00:25<00:10,  9.77it/s]"
          ]
        },
        {
          "output_type": "stream",
          "name": "stdout",
          "text": [
            "1\n",
            "1\n",
            "1\n"
          ]
        },
        {
          "output_type": "stream",
          "name": "stderr",
          "text": [
            " 66%|██████▌   | 188/285 [00:25<00:10,  9.44it/s]"
          ]
        },
        {
          "output_type": "stream",
          "name": "stdout",
          "text": [
            "3\n",
            "3\n"
          ]
        },
        {
          "output_type": "stream",
          "name": "stderr",
          "text": [
            " 67%|██████▋   | 190/285 [00:25<00:09,  9.61it/s]"
          ]
        },
        {
          "output_type": "stream",
          "name": "stdout",
          "text": [
            "3\n",
            "1\n",
            "1\n"
          ]
        },
        {
          "output_type": "stream",
          "name": "stderr",
          "text": [
            " 68%|██████▊   | 193/285 [00:25<00:09, 10.18it/s]"
          ]
        },
        {
          "output_type": "stream",
          "name": "stdout",
          "text": [
            "1\n",
            "3\n",
            "1\n"
          ]
        },
        {
          "output_type": "stream",
          "name": "stderr",
          "text": [
            "\r 68%|██████▊   | 195/285 [00:26<00:08, 10.18it/s]"
          ]
        },
        {
          "output_type": "stream",
          "name": "stdout",
          "text": [
            "3\n",
            "3\n",
            "2\n"
          ]
        },
        {
          "output_type": "stream",
          "name": "stderr",
          "text": [
            " 70%|██████▉   | 199/285 [00:26<00:08, 10.48it/s]"
          ]
        },
        {
          "output_type": "stream",
          "name": "stdout",
          "text": [
            "2\n",
            "1\n",
            "1\n"
          ]
        },
        {
          "output_type": "stream",
          "name": "stderr",
          "text": [
            "\r 71%|███████   | 201/285 [00:26<00:08, 10.40it/s]"
          ]
        },
        {
          "output_type": "stream",
          "name": "stdout",
          "text": [
            "3\n",
            "2\n",
            "3\n"
          ]
        },
        {
          "output_type": "stream",
          "name": "stderr",
          "text": [
            " 72%|███████▏  | 205/285 [00:27<00:07, 10.24it/s]"
          ]
        },
        {
          "output_type": "stream",
          "name": "stdout",
          "text": [
            "2\n",
            "1\n"
          ]
        },
        {
          "output_type": "stream",
          "name": "stderr",
          "text": [
            "\r 73%|███████▎  | 207/285 [00:27<00:07, 10.35it/s]"
          ]
        },
        {
          "output_type": "stream",
          "name": "stdout",
          "text": [
            "1\n",
            "1\n",
            "1\n"
          ]
        },
        {
          "output_type": "stream",
          "name": "stderr",
          "text": [
            "\r 73%|███████▎  | 209/285 [00:27<00:07, 10.00it/s]"
          ]
        },
        {
          "output_type": "stream",
          "name": "stdout",
          "text": [
            "2\n",
            "2\n"
          ]
        },
        {
          "output_type": "stream",
          "name": "stderr",
          "text": [
            " 74%|███████▍  | 212/285 [00:27<00:07,  9.49it/s]"
          ]
        },
        {
          "output_type": "stream",
          "name": "stdout",
          "text": [
            "1\n",
            "1\n"
          ]
        },
        {
          "output_type": "stream",
          "name": "stderr",
          "text": [
            " 75%|███████▌  | 214/285 [00:27<00:07,  9.12it/s]"
          ]
        },
        {
          "output_type": "stream",
          "name": "stdout",
          "text": [
            "1\n",
            "1\n"
          ]
        },
        {
          "output_type": "stream",
          "name": "stderr",
          "text": [
            "\r 75%|███████▌  | 215/285 [00:28<00:07,  9.31it/s]"
          ]
        },
        {
          "output_type": "stream",
          "name": "stdout",
          "text": [
            "3\n",
            "3\n",
            "3\n"
          ]
        },
        {
          "output_type": "stream",
          "name": "stderr",
          "text": [
            " 77%|███████▋  | 219/285 [00:28<00:06,  9.94it/s]"
          ]
        },
        {
          "output_type": "stream",
          "name": "stdout",
          "text": [
            "1\n",
            "1\n",
            "1\n"
          ]
        },
        {
          "output_type": "stream",
          "name": "stderr",
          "text": [
            " 78%|███████▊  | 222/285 [00:28<00:06,  9.51it/s]"
          ]
        },
        {
          "output_type": "stream",
          "name": "stdout",
          "text": [
            "3\n",
            "2\n",
            "3\n"
          ]
        },
        {
          "output_type": "stream",
          "name": "stderr",
          "text": [
            " 79%|███████▊  | 224/285 [00:29<00:06,  9.57it/s]"
          ]
        },
        {
          "output_type": "stream",
          "name": "stdout",
          "text": [
            "3\n",
            "2\n",
            "2\n"
          ]
        },
        {
          "output_type": "stream",
          "name": "stderr",
          "text": [
            " 80%|███████▉  | 227/285 [00:29<00:06,  9.23it/s]"
          ]
        },
        {
          "output_type": "stream",
          "name": "stdout",
          "text": [
            "1\n",
            "1\n"
          ]
        },
        {
          "output_type": "stream",
          "name": "stderr",
          "text": [
            "\r 80%|████████  | 229/285 [00:29<00:05,  9.59it/s]"
          ]
        },
        {
          "output_type": "stream",
          "name": "stdout",
          "text": [
            "2\n",
            "1\n",
            "3\n"
          ]
        },
        {
          "output_type": "stream",
          "name": "stderr",
          "text": [
            " 82%|████████▏ | 233/285 [00:29<00:05,  9.99it/s]"
          ]
        },
        {
          "output_type": "stream",
          "name": "stdout",
          "text": [
            "3\n",
            "3\n",
            "1\n"
          ]
        },
        {
          "output_type": "stream",
          "name": "stderr",
          "text": [
            "\r 82%|████████▏ | 235/285 [00:30<00:04, 10.25it/s]"
          ]
        },
        {
          "output_type": "stream",
          "name": "stdout",
          "text": [
            "3\n",
            "1\n"
          ]
        },
        {
          "output_type": "stream",
          "name": "stderr",
          "text": [
            "\r 83%|████████▎ | 237/285 [00:30<00:06,  7.77it/s]"
          ]
        },
        {
          "output_type": "stream",
          "name": "stdout",
          "text": [
            "1\n",
            "2\n"
          ]
        },
        {
          "output_type": "stream",
          "name": "stderr",
          "text": [
            " 84%|████████▍ | 240/285 [00:30<00:05,  7.76it/s]"
          ]
        },
        {
          "output_type": "stream",
          "name": "stdout",
          "text": [
            "1\n",
            "1\n",
            "3\n"
          ]
        },
        {
          "output_type": "stream",
          "name": "stderr",
          "text": [
            "\r 85%|████████▍ | 242/285 [00:31<00:05,  8.47it/s]"
          ]
        },
        {
          "output_type": "stream",
          "name": "stdout",
          "text": [
            "1\n",
            "2\n",
            "2\n"
          ]
        },
        {
          "output_type": "stream",
          "name": "stderr",
          "text": [
            " 86%|████████▋ | 246/285 [00:31<00:04,  9.56it/s]"
          ]
        },
        {
          "output_type": "stream",
          "name": "stdout",
          "text": [
            "1\n",
            "1\n",
            "1\n"
          ]
        },
        {
          "output_type": "stream",
          "name": "stderr",
          "text": [
            " 87%|████████▋ | 248/285 [00:31<00:04,  9.11it/s]"
          ]
        },
        {
          "output_type": "stream",
          "name": "stdout",
          "text": [
            "2\n",
            "2\n"
          ]
        },
        {
          "output_type": "stream",
          "name": "stderr",
          "text": [
            " 88%|████████▊ | 250/285 [00:32<00:04,  7.60it/s]"
          ]
        },
        {
          "output_type": "stream",
          "name": "stdout",
          "text": [
            "1\n",
            "2\n"
          ]
        },
        {
          "output_type": "stream",
          "name": "stderr",
          "text": [
            " 88%|████████▊ | 252/285 [00:32<00:04,  6.73it/s]"
          ]
        },
        {
          "output_type": "stream",
          "name": "stdout",
          "text": [
            "1\n",
            "1\n"
          ]
        },
        {
          "output_type": "stream",
          "name": "stderr",
          "text": [
            " 89%|████████▉ | 254/285 [00:32<00:04,  6.50it/s]"
          ]
        },
        {
          "output_type": "stream",
          "name": "stdout",
          "text": [
            "1\n",
            "1\n"
          ]
        },
        {
          "output_type": "stream",
          "name": "stderr",
          "text": [
            " 90%|████████▉ | 256/285 [00:33<00:04,  6.08it/s]"
          ]
        },
        {
          "output_type": "stream",
          "name": "stdout",
          "text": [
            "1\n",
            "1\n"
          ]
        },
        {
          "output_type": "stream",
          "name": "stderr",
          "text": [
            " 91%|█████████ | 258/285 [00:33<00:04,  6.04it/s]"
          ]
        },
        {
          "output_type": "stream",
          "name": "stdout",
          "text": [
            "1\n",
            "3\n"
          ]
        },
        {
          "output_type": "stream",
          "name": "stderr",
          "text": [
            " 91%|█████████ | 260/285 [00:33<00:04,  6.00it/s]"
          ]
        },
        {
          "output_type": "stream",
          "name": "stdout",
          "text": [
            "3\n",
            "3\n"
          ]
        },
        {
          "output_type": "stream",
          "name": "stderr",
          "text": [
            " 92%|█████████▏| 262/285 [00:34<00:03,  5.78it/s]"
          ]
        },
        {
          "output_type": "stream",
          "name": "stdout",
          "text": [
            "1\n",
            "1\n"
          ]
        },
        {
          "output_type": "stream",
          "name": "stderr",
          "text": [
            " 93%|█████████▎| 264/285 [00:34<00:03,  6.00it/s]"
          ]
        },
        {
          "output_type": "stream",
          "name": "stdout",
          "text": [
            "2\n",
            "2\n"
          ]
        },
        {
          "output_type": "stream",
          "name": "stderr",
          "text": [
            " 93%|█████████▎| 266/285 [00:34<00:02,  6.35it/s]"
          ]
        },
        {
          "output_type": "stream",
          "name": "stdout",
          "text": [
            "2\n",
            "2\n",
            "2\n"
          ]
        },
        {
          "output_type": "stream",
          "name": "stderr",
          "text": [
            " 95%|█████████▍| 270/285 [00:35<00:01,  8.65it/s]"
          ]
        },
        {
          "output_type": "stream",
          "name": "stdout",
          "text": [
            "2\n",
            "2\n",
            "1\n"
          ]
        },
        {
          "output_type": "stream",
          "name": "stderr",
          "text": [
            " 96%|█████████▌| 273/285 [00:35<00:01,  9.50it/s]"
          ]
        },
        {
          "output_type": "stream",
          "name": "stdout",
          "text": [
            "1\n",
            "1\n",
            "2\n"
          ]
        },
        {
          "output_type": "stream",
          "name": "stderr",
          "text": [
            " 96%|█████████▋| 275/285 [00:35<00:01,  9.24it/s]"
          ]
        },
        {
          "output_type": "stream",
          "name": "stdout",
          "text": [
            "1\n",
            "1\n",
            "2\n"
          ]
        },
        {
          "output_type": "stream",
          "name": "stderr",
          "text": [
            " 98%|█████████▊| 279/285 [00:36<00:00,  9.72it/s]"
          ]
        },
        {
          "output_type": "stream",
          "name": "stdout",
          "text": [
            "2\n",
            "1\n",
            "1"
          ]
        },
        {
          "output_type": "stream",
          "name": "stderr",
          "text": [
            "\r 99%|█████████▊| 281/285 [00:36<00:00, 10.00it/s]"
          ]
        },
        {
          "output_type": "stream",
          "name": "stdout",
          "text": [
            "\n",
            "1\n",
            "1\n"
          ]
        },
        {
          "output_type": "stream",
          "name": "stderr",
          "text": [
            "\r 99%|█████████▉| 283/285 [00:36<00:00, 10.16it/s]"
          ]
        },
        {
          "output_type": "stream",
          "name": "stdout",
          "text": [
            "1\n",
            "1\n",
            "1\n"
          ]
        },
        {
          "output_type": "stream",
          "name": "stderr",
          "text": [
            "100%|██████████| 285/285 [00:36<00:00,  7.79it/s]\n"
          ]
        }
      ]
    },
    {
      "cell_type": "code",
      "source": [
        "print(\"Accuracy for Top 5\", accuracy_5*100)\n",
        "print(\"Accuracy for Top 10\", accuracy_10*100)\n",
        "print(\"Accuracy for Top 20\", accuracy_20*100)\n",
        "print(\"Accuracy for Top 50\", accuracy_50*100)\n",
        "print(\"Accuracy for Top 100\", accuracy_100*100)\n",
        "print(\"Average Precision \", prec_5)\n",
        "\n"
      ],
      "metadata": {
        "colab": {
          "base_uri": "https://localhost:8080/"
        },
        "id": "CPC0o1rtXSIW",
        "outputId": "3fb02a8a-09d0-44b4-e9de-00f1baeb35fc"
      },
      "execution_count": 144,
      "outputs": [
        {
          "output_type": "stream",
          "name": "stdout",
          "text": [
            "Accuracy for Top 5 0.24416094138705013\n",
            "Accuracy for Top 10 0.7724709767120067\n",
            "Accuracy for Top 20 2.008300306541388\n",
            "Accuracy for Top 50 5.917687073843019\n",
            "Accuracy for Top 100 12.45491236573949\n",
            "Average Precision  0.974913245924082\n"
          ]
        }
      ]
    },
    {
      "cell_type": "code",
      "source": [],
      "metadata": {
        "id": "0kaUpiQpCFJL"
      },
      "execution_count": null,
      "outputs": []
    }
  ],
  "metadata": {
    "colab": {
      "provenance": [],
      "authorship_tag": "ABX9TyOrrpHfJJ/DZkWlRf4y6f9a",
      "include_colab_link": true
    },
    "kernelspec": {
      "display_name": "Python 3",
      "name": "python3"
    },
    "language_info": {
      "name": "python"
    }
  },
  "nbformat": 4,
  "nbformat_minor": 0
}