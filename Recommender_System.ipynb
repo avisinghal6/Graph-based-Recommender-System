{
  "cells": [
    {
      "cell_type": "markdown",
      "metadata": {
        "id": "view-in-github",
        "colab_type": "text"
      },
      "source": [
        "<a href=\"https://colab.research.google.com/github/avisinghal6/Graph-based-Recommender-System/blob/main/Recommender_System.ipynb\" target=\"_parent\"><img src=\"https://colab.research.google.com/assets/colab-badge.svg\" alt=\"Open In Colab\"/></a>"
      ]
    },
    {
      "cell_type": "code",
      "execution_count": 1,
      "metadata": {
        "id": "607R0wtZEzIx"
      },
      "outputs": [],
      "source": [
        "import networkx as nx\n",
        "import numpy as np\n",
        "import os\n",
        "import random\n",
        "import math "
      ]
    },
    {
      "cell_type": "code",
      "execution_count": 131,
      "metadata": {
        "id": "LjO9sBROI0aJ"
      },
      "outputs": [],
      "source": [
        "G=nx.Graph()"
      ]
    },
    {
      "cell_type": "code",
      "execution_count": 132,
      "metadata": {
        "colab": {
          "base_uri": "https://localhost:8080/",
          "height": 35
        },
        "id": "DfpbWxzdNgC3",
        "outputId": "29d56acb-1153-4213-9f04-5eac55c61d27"
      },
      "outputs": [
        {
          "output_type": "execute_result",
          "data": {
            "text/plain": [
              "'/content/data'"
            ],
            "application/vnd.google.colaboratory.intrinsic+json": {
              "type": "string"
            }
          },
          "metadata": {},
          "execution_count": 132
        }
      ],
      "source": [
        "os.getcwd()+'/data'"
      ]
    },
    {
      "cell_type": "code",
      "execution_count": 133,
      "metadata": {
        "id": "BDjgYyeOIT1G"
      },
      "outputs": [],
      "source": [
        "dir=os.getcwd()+'/data'\n",
        "videos_to_remove=[]\n",
        "for filename in os.listdir(dir):\n",
        "   with open(os.path.join(dir, filename), 'r') as f:\n",
        "     for line in f.readlines():\n",
        "      data=line.split(\"\\t\")\n",
        "      related_id=data[9:]\n",
        "      if len(related_id)>0:\n",
        "        related_id[-1]=data[-1][:-1]\n",
        "      \n",
        "      if(len(data)==1):\n",
        "        videos_to_remove.append(data[-1][:-1])\n",
        "        continue\n",
        "      G.add_node(data[0],uploader=data[1],age=data[2],category=data[3],length=data[4],views=data[5],rate=data[6],ratings=data[7],comments=data[8])\n",
        "      for i in range(len(related_id)):\n",
        "        G.add_edge(data[0],related_id[i])\n"
      ]
    },
    {
      "cell_type": "code",
      "execution_count": 134,
      "metadata": {
        "id": "-J3ceniA4Xav"
      },
      "outputs": [],
      "source": [
        "for n in G.nodes():\n",
        "  if bool(G.nodes[n])==False:\n",
        "    videos_to_remove.append(n)"
      ]
    },
    {
      "cell_type": "code",
      "execution_count": 135,
      "metadata": {
        "id": "MEGG0cRxImuO"
      },
      "outputs": [],
      "source": [
        "for i in videos_to_remove:\n",
        "  try:\n",
        "    G.remove_node(i)\n",
        "  except:\n",
        "    continue"
      ]
    },
    {
      "cell_type": "code",
      "execution_count": 136,
      "metadata": {
        "id": "JJLXpvjrcZ1I"
      },
      "outputs": [],
      "source": [
        "videos_to_remove=[]\n",
        "for n in G.nodes():\n",
        "  if len(list(G.neighbors(n)))==0:\n",
        "    videos_to_remove.append(n)"
      ]
    },
    {
      "cell_type": "code",
      "execution_count": 137,
      "metadata": {
        "id": "d17WNHHycify"
      },
      "outputs": [],
      "source": [
        "for i in videos_to_remove:\n",
        "  try:\n",
        "    G.remove_node(i)\n",
        "  except:\n",
        "    continue"
      ]
    },
    {
      "cell_type": "code",
      "execution_count": 138,
      "metadata": {
        "colab": {
          "base_uri": "https://localhost:8080/"
        },
        "id": "8CyeSmcJMWaY",
        "outputId": "9010a255-cf18-415b-cdb7-607d79c2b0ef"
      },
      "outputs": [
        {
          "output_type": "execute_result",
          "data": {
            "text/plain": [
              "131309"
            ]
          },
          "metadata": {},
          "execution_count": 138
        }
      ],
      "source": [
        "G.number_of_edges()"
      ]
    },
    {
      "cell_type": "code",
      "execution_count": 139,
      "metadata": {
        "colab": {
          "base_uri": "https://localhost:8080/"
        },
        "id": "d36-K3bvQXUK",
        "outputId": "5dba3b75-db12-44b0-d37c-4ec15a10a26d"
      },
      "outputs": [
        {
          "output_type": "execute_result",
          "data": {
            "text/plain": [
              "48781"
            ]
          },
          "metadata": {},
          "execution_count": 139
        }
      ],
      "source": [
        "G.number_of_nodes()"
      ]
    },
    {
      "cell_type": "code",
      "execution_count": null,
      "metadata": {
        "id": "beJnbaok-Zsd"
      },
      "outputs": [],
      "source": []
    },
    {
      "cell_type": "markdown",
      "metadata": {
        "id": "Oubr3BVQ-Z4P"
      },
      "source": [
        "STATISTICS OF DATA CODE"
      ]
    },
    {
      "cell_type": "code",
      "execution_count": 24,
      "metadata": {
        "id": "nhfsPtSFQdFW"
      },
      "outputs": [],
      "source": [
        "import matplotlib.pyplot as plt"
      ]
    },
    {
      "cell_type": "code",
      "execution_count": null,
      "metadata": {
        "id": "9xALiYeJR-xj"
      },
      "outputs": [],
      "source": [
        "degree_sequence = sorted((d for n, d in G.degree()), reverse=True)\n",
        "dmax = max(degree_sequence)"
      ]
    },
    {
      "cell_type": "code",
      "execution_count": null,
      "metadata": {
        "colab": {
          "base_uri": "https://localhost:8080/",
          "height": 585
        },
        "id": "yFupdH82R7k8",
        "outputId": "2a426d7e-46dc-4d28-aa27-d453a9d5732b"
      },
      "outputs": [
        {
          "data": {
            "image/png": "[encoded data removed]",
            "text/plain": [
              "<Figure size 576x576 with 1 Axes>"
            ]
          },
          "metadata": {},
          "output_type": "display_data"
        }
      ],
      "source": [
        "fig = plt.figure(\"Degree of a random graph\", figsize=(8, 8))\n",
        "axgrid = fig.add_gridspec(1,1)\n",
        "ax2 = fig.add_subplot(axgrid[0:, 0:])\n",
        "ax2.bar(*np.unique(degree_sequence, return_counts=True))\n",
        "ax2.set_title(\"Degree histogram\")\n",
        "ax2.set_xlabel(\"Degree\")\n",
        "ax2.set_ylabel(\"# of Nodes\")\n",
        "\n",
        "fig.tight_layout()\n",
        "plt.show()"
      ]
    },
    {
      "cell_type": "code",
      "execution_count": 22,
      "metadata": {
        "id": "Tv9FTyu8Sq0v"
      },
      "outputs": [],
      "source": [
        "import itertools\n",
        "shortest_paths={}\n",
        "shortest_paths[-1]=0\n",
        "for u,v in G.edges():\n",
        "  G.remove_edge(u,v)\n",
        "  try:\n",
        "    length=nx.shortest_path_length(G, source=u, target=v)\n",
        "  except:\n",
        "    shortest_paths[-1]=shortest_paths[-1]+1\n",
        "    G.add_edge(u,v)\n",
        "    continue\n",
        "  \n",
        "  if length in shortest_paths:\n",
        "    shortest_paths[length]=shortest_paths[length]+1\n",
        "  else:\n",
        "    shortest_paths[length]=1\n",
        "  G.add_edge(u,v)\n"
      ]
    },
    {
      "cell_type": "code",
      "execution_count": 46,
      "metadata": {
        "id": "mUPju39iWDOQ",
        "colab": {
          "base_uri": "https://localhost:8080/",
          "height": 265
        },
        "outputId": "02f75abc-cb00-4f2a-c11c-2bc76b117e63"
      },
      "outputs": [
        {
          "output_type": "display_data",
          "data": {
            "text/plain": [
              "<Figure size 432x288 with 1 Axes>"
            ],
            "image/png": "[encoded data removed]"
          },
          "metadata": {
            "needs_background": "light"
          }
        }
      ],
      "source": [
        "node_pairs=list(shortest_paths.keys())\n",
        "shortest_path=list(shortest_paths.values())\n",
        "plt.bar(node_pairs, shortest_path)\n",
        "plt.show()"
      ]
    },
    {
      "cell_type": "code",
      "execution_count": 51,
      "metadata": {
        "id": "V_T8GtFFak86"
      },
      "outputs": [],
      "source": [
        "similar_neighbors={}\n",
        "for n in G.nodes():\n",
        "  node_genre=G.nodes[n]['category']\n",
        "  count=0\n",
        "  same=0\n",
        "  for i in G.neighbors(n):\n",
        "    count+=1\n",
        "    if node_genre==G.nodes[i]['category'] :\n",
        "      same+=1\n",
        "  \n",
        "  percent=same/count\n",
        "  percent=round(percent*100)\n",
        "  if percent in similar_neighbors:\n",
        "    similar_neighbors[percent]=similar_neighbors[percent]+1\n",
        "  else:\n",
        "    similar_neighbors[percent]=1"
      ]
    },
    {
      "cell_type": "code",
      "execution_count": 53,
      "metadata": {
        "id": "h7Ny2u9rdWUu",
        "colab": {
          "base_uri": "https://localhost:8080/",
          "height": 265
        },
        "outputId": "b8ad2e06-f819-4937-e508-5eb175f9444f"
      },
      "outputs": [
        {
          "output_type": "display_data",
          "data": {
            "text/plain": [
              "<Figure size 432x288 with 1 Axes>"
            ],
            "image/png": "[encoded data removed]"
          },
          "metadata": {
            "needs_background": "light"
          }
        }
      ],
      "source": [
        "nodes=list(similar_neighbors.keys())\n",
        "percentage=list(similar_neighbors.values())\n",
        "plt.bar(nodes,percentage)\n",
        "plt.show()"
      ]
    },
    {
      "cell_type": "code",
      "execution_count": 54,
      "metadata": {
        "id": "Q5a5i4amdfv-"
      },
      "outputs": [],
      "source": [
        "same_uploader={}\n",
        "for n in G.nodes():\n",
        "  uploader=G.nodes[n]['uploader']\n",
        "  count=0\n",
        "  same=0\n",
        "  for i in G.neighbors(n):\n",
        "    count+=1\n",
        "    if uploader==G.nodes[i]['uploader'] :\n",
        "      same+=1\n",
        "  \n",
        "  percent=same/count\n",
        "  percent=round(percent*100)\n",
        "  if percent in same_uploader:\n",
        "    same_uploader[percent]=same_uploader[percent]+1\n",
        "  else:\n",
        "    same_uploader[percent]=1"
      ]
    },
    {
      "cell_type": "code",
      "execution_count": 55,
      "metadata": {
        "id": "CR14tAxYdfyi",
        "colab": {
          "base_uri": "https://localhost:8080/",
          "height": 267
        },
        "outputId": "da9d99d7-d30a-4366-ffbc-7dc5c539d7c8"
      },
      "outputs": [
        {
          "output_type": "display_data",
          "data": {
            "text/plain": [
              "<Figure size 432x288 with 1 Axes>"
            ],
            "image/png": "[encoded data removed]"
          },
          "metadata": {
            "needs_background": "light"
          }
        }
      ],
      "source": [
        "nodes=list(same_uploader.keys())\n",
        "percentage=list(same_uploader.values())\n",
        "plt.bar(nodes, percentage)\n",
        "plt.show()"
      ]
    },
    {
      "cell_type": "code",
      "execution_count": 67,
      "metadata": {
        "id": "B4RMroLQd1tG"
      },
      "outputs": [],
      "source": [
        "node_views={}\n",
        "for n in G.nodes():\n",
        "  node_views[int(G.nodes[n]['views'])]=G.degree[n]"
      ]
    },
    {
      "cell_type": "code",
      "execution_count": 68,
      "metadata": {
        "id": "9MRKNa21d1vY",
        "colab": {
          "base_uri": "https://localhost:8080/",
          "height": 281
        },
        "outputId": "8539024d-44ab-40c3-8311-bea1e072a47b"
      },
      "outputs": [
        {
          "output_type": "display_data",
          "data": {
            "text/plain": [
              "<Figure size 432x288 with 1 Axes>"
            ],
            "image/png": "[encoded data removed]"
          },
          "metadata": {
            "needs_background": "light"
          }
        }
      ],
      "source": [
        "views=list(node_views.keys())\n",
        "nodes=list(node_views.values())\n",
        "plt.scatter(views, nodes)\n",
        "plt.show()"
      ]
    },
    {
      "cell_type": "code",
      "execution_count": 70,
      "metadata": {
        "id": "ZHiwvZJ7014p",
        "colab": {
          "base_uri": "https://localhost:8080/"
        },
        "outputId": "85c5faf8-91e3-4adf-fb99-2b7ed3b63aed"
      },
      "outputs": [
        {
          "output_type": "execute_result",
          "data": {
            "text/plain": [
              "7524"
            ]
          },
          "metadata": {},
          "execution_count": 70
        }
      ],
      "source": []
    },
    {
      "cell_type": "markdown",
      "metadata": {
        "id": "5A8t36lF-fws"
      },
      "source": [
        "PIXIE RANDOM WALK CODE\n"
      ]
    },
    {
      "cell_type": "code",
      "execution_count": 170,
      "metadata": {
        "id": "nykZ_oGzghEf"
      },
      "outputs": [],
      "source": [
        "def personalizedNeighbor(G,F,currentVideo,visited):\n",
        "  n=G.neighbors(currentVideo)\n",
        "  if len(list(G.neighbors(currentVideo)))==0:\n",
        "    return -1\n",
        "  probs=[]\n",
        "  neighbors=[]\n",
        "  count=0\n",
        "  for i in G.neighbors(currentVideo):\n",
        "    p=1\n",
        "    neighbors.append(i)\n",
        "    # if F['category']==G.nodes[i]['category']:\n",
        "    #   p=p*1.5\n",
        "    \n",
        "    # if F['uploader']==G.nodes[i]['uploader']:\n",
        "    #   p=p*1.5\n",
        "\n",
        "    # p=p*(math.sqrt(math.log(int(G.nodes[i]['views'])+3)))\n",
        "\n",
        "    # if currentVideo not in visited:\n",
        "    #   p=p*1.5\n",
        "\n",
        "    probs.append(p)\n",
        "  \n",
        "  total=sum(probs)\n",
        "  probs=[x/total for x in probs]\n",
        "  \n",
        "  selected_node=np.random.choice(neighbors, 1,p=probs)[0]\n",
        "\n",
        "  return selected_node\n",
        "  "
      ]
    },
    {
      "cell_type": "code",
      "execution_count": 171,
      "metadata": {
        "id": "KMHykPWj3Odw"
      },
      "outputs": [],
      "source": [
        "def chooseNeighbor(G):\n",
        "  nodes=list(G.nodes)\n",
        "  return random.choice(nodes)"
      ]
    },
    {
      "cell_type": "code",
      "execution_count": 172,
      "metadata": {
        "id": "7iE3O5dbghG8"
      },
      "outputs": [],
      "source": [
        "def PixieRandomWalk(q,G,F,N_q,T,V):\n",
        "  \n",
        "  for i in G.nodes:\n",
        "    V[i]=0\n",
        "\n",
        "  for beta in T:\n",
        "    currentVideo=q\n",
        "    visited=set()\n",
        "    for i in range(int(N_q/len(T))):\n",
        "      visited.add(currentVideo)\n",
        "      V[currentVideo]=V[currentVideo]+1\n",
        "      teleport=random.uniform(0, 1)\n",
        "      if teleport < beta :\n",
        "        currentVideo=chooseNeighbor(G)\n",
        "      else:\n",
        "        currentVideo=personalizedNeighbor(G,F,currentVideo,visited)\n",
        "      \n",
        "      while currentVideo==-1:\n",
        "        currentVideo=chooseNeighbor(G)\n",
        "  return V"
      ]
    },
    {
      "cell_type": "code",
      "execution_count": 173,
      "metadata": {
        "id": "yqdlfEYhv-yz"
      },
      "outputs": [],
      "source": [
        "def PixieRandomWalkMultiple(Q,Nq,G,F,N,T):\n",
        "  Vq=[]\n",
        "  for i in range(len(Q)):\n",
        "    Vq.append(PixieRandomWalk(Q[i],G,F,Nq[i],T,{}))\n",
        "  \n",
        "  VisitCounts={}\n",
        "  for v in G.nodes():\n",
        "    \n",
        "    total=0\n",
        "    for i in range(len(Q)):\n",
        "      total+=math.sqrt(Vq[i][v])\n",
        "      \n",
        "    VisitCounts[v]=total*total\n",
        "    \n",
        "  return VisitCounts\n",
        "    "
      ]
    },
    {
      "cell_type": "code",
      "execution_count": 174,
      "metadata": {
        "id": "CbsKvURrxIyQ"
      },
      "outputs": [],
      "source": [
        "#generates the query set Q and N_q for each query\n",
        "def construct_query(G,N,currentVideo,threshold):\n",
        "\n",
        "  query=[]\n",
        "  Nq=[]\n",
        "  max_degree=0\n",
        "  Sq=[]\n",
        "\n",
        "  for i in G.neighbors(currentVideo):\n",
        "\n",
        "    rand=random.uniform(0, 1)\n",
        "\n",
        "    if rand < threshold:\n",
        "      query.append(i)\n",
        "      max_degree=max(max_degree,G.degree[i])\n",
        "      \n",
        "  for i in query:\n",
        "    sq= G.degree[i] * (max_degree- math.log(G.degree[i]))\n",
        "    Sq.append(sq)\n",
        "  \n",
        "  total_Sq=sum(Sq)\n",
        "  \n",
        "  for i in range(len(Sq)):\n",
        "    Nq.append(N*Sq[i]/total_Sq)\n",
        "  \n",
        "\n",
        "  return query,Nq"
      ]
    },
    {
      "cell_type": "code",
      "execution_count": 175,
      "metadata": {
        "id": "ed5kHxFm1RK4"
      },
      "outputs": [],
      "source": [
        "currentVideo='OOwP-s-89aU'\n",
        "N=500\n",
        "threshold=1\n",
        "Q,Nq=construct_query(G,N,currentVideo,threshold)\n",
        "F=G.nodes[currentVideo]\n",
        "T=[0.5]\n",
        "\n",
        "VisitCounts=PixieRandomWalkMultiple(Q,Nq,G,F,N,T)"
      ]
    },
    {
      "cell_type": "code",
      "execution_count": 176,
      "metadata": {
        "id": "1qf-p4Mx2Qkv"
      },
      "outputs": [],
      "source": [
        "# VisitCounts=sorted(VisitCounts,reverse=True)\n",
        "# for i in VisitCounts.keys():\n",
        "#   if(VisitCounts[i]>1):\n",
        "#     print(VisitCounts[i])\n"
      ]
    },
    {
      "cell_type": "code",
      "execution_count": null,
      "metadata": {
        "id": "nPNNaa97CE9S"
      },
      "outputs": [],
      "source": []
    },
    {
      "cell_type": "code",
      "execution_count": null,
      "metadata": {
        "id": "pEmnjBnSCE_o"
      },
      "outputs": [],
      "source": []
    },
    {
      "cell_type": "markdown",
      "metadata": {
        "id": "w_tSV10VCF9E"
      },
      "source": [
        "DATASET CONSTRUCTION"
      ]
    },
    {
      "cell_type": "code",
      "execution_count": 140,
      "metadata": {
        "id": "Vnyx20x5CFLW"
      },
      "outputs": [],
      "source": [
        "import copy\n",
        "G2=copy.deepcopy(G)\n",
        "test_edges=[]\n",
        "\n",
        "for i in G2.nodes:\n",
        "  n=list(G2.neighbors(i))\n",
        "  # print(n)\n",
        "  five_percent=int(0.05*len(n))\n",
        "\n",
        "  edge=random.sample(n,k=five_percent)\n",
        "  for j in range(five_percent):\n",
        "    test_edges.append((i,edge[j]))\n",
        "    G2.remove_edge(i,edge[j])\n",
        "      \n"
      ]
    },
    {
      "cell_type": "code",
      "execution_count": 141,
      "metadata": {
        "id": "41CPFF_HIjMz"
      },
      "outputs": [],
      "source": [
        "import copy\n",
        "G3=copy.deepcopy(G)\n",
        "eval_edges=[]\n",
        "\n",
        "for i in G3.nodes:\n",
        "  n=list(G3.neighbors(i))\n",
        "  # print(n)\n",
        "  five_percent=int(0.05*len(n))\n",
        "\n",
        "  edge=random.sample(n,k=five_percent)\n",
        "  for j in range(five_percent):\n",
        "    eval_edges.append((i,edge[j]))\n",
        "    G3.remove_edge(i,edge[j])\n",
        "      \n"
      ]
    },
    {
      "cell_type": "code",
      "execution_count": 180,
      "metadata": {
        "id": "md0n75wjPa_C"
      },
      "outputs": [],
      "source": [
        "debug=False\n",
        "N=1000\n",
        "threshold=0.2\n",
        "accuracy=0\n",
        "NUMBER_OF_NODES=G3.number_of_nodes()\n",
        "for i in G3.nodes:\n",
        "  edges=set()\n",
        "  currentVideo=i\n",
        "  for u,v in eval_edges:\n",
        "    if u==currentVideo:\n",
        "      edges.add(v)\n",
        "    elif v==currentVideo:\n",
        "      edges.add(u)\n",
        "  \n",
        "  if len(edges)==0:\n",
        "    NUMBER_OF_NODES-=1\n",
        "    continue\n",
        "  Q,Nq=construct_query(G3,N,currentVideo,threshold)\n",
        "\n",
        "  F=G3.nodes[currentVideo]\n",
        "  T=[0]\n",
        "  VisitCounts=PixieRandomWalkMultiple(Q,Nq,G3,F,N,T)\n",
        "  # for j in VisitCounts.keys():\n",
        "  #   if(VisitCounts[j]>1):\n",
        "  #     print(VisitCounts[j])\n",
        "\n",
        "  VisitCounts=sorted(VisitCounts.items(), key=lambda x:x[1],reverse=True)\n",
        "  \n",
        "\n",
        "  node_edges=set()\n",
        "  for j in range(100):\n",
        "    x,y=VisitCounts[j]\n",
        "    node_edges.add(x)\n",
        "\n",
        "  count=len(node_edges.intersection(edges))\n",
        "  # print(count)\n",
        "  accuracy+=count/len(edges)\n",
        "  # print(accuracy)\n",
        "  if debug:\n",
        "    print(i)\n",
        "    print(Q)\n",
        "    print(edges)\n",
        "    print(node_edges)\n",
        "    print(count)\n",
        "    break\n",
        "accuracy/=NUMBER_OF_NODES"
      ]
    },
    {
      "cell_type": "code",
      "execution_count": 181,
      "metadata": {
        "id": "TCCPmjSIfT-G",
        "colab": {
          "base_uri": "https://localhost:8080/"
        },
        "outputId": "6985c33b-9d8e-4438-b1b4-acab4c8f6a19"
      },
      "outputs": [
        {
          "output_type": "execute_result",
          "data": {
            "text/plain": [
              "0.5801258208201314"
            ]
          },
          "metadata": {},
          "execution_count": 181
        }
      ],
      "source": [
        "accuracy"
      ]
    }
  ],
  "metadata": {
    "colab": {
      "provenance": [],
      "authorship_tag": "ABX9TyP7pVBNQEg7zyUfCX8zC506",
      "include_colab_link": true
    },
    "kernelspec": {
      "display_name": "Python 3",
      "name": "python3"
    },
    "language_info": {
      "name": "python"
    }
  },
  "nbformat": 4,
  "nbformat_minor": 0
}